{
 "cells": [
  {
   "cell_type": "code",
   "execution_count": 1,
   "metadata": {
    "collapsed": false,
    "jupyter": {
     "outputs_hidden": false
    }
   },
   "outputs": [],
   "source": [
    "using Pkg"
   ]
  },
  {
   "cell_type": "code",
   "execution_count": 4,
   "metadata": {
    "collapsed": true,
    "jupyter": {
     "outputs_hidden": true
    }
   },
   "outputs": [
    {
     "name": "stderr",
     "output_type": "stream",
     "text": [
      "\u001b[32m\u001b[1m   Updating\u001b[22m\u001b[39m registry at `~/git/jupyNixDsF/.julia_pkgs/registries/General`\n",
      "######################################################################### 100.0%\n",
      "\u001b[32m\u001b[1m  Resolving\u001b[22m\u001b[39m package versions...\n",
      "\u001b[32m\u001b[1m  Installed\u001b[22m\u001b[39m OpenSpecFun_jll ────────────── v0.5.3+3\n",
      "\u001b[32m\u001b[1m  Installed\u001b[22m\u001b[39m CompilerSupportLibraries_jll ─ v0.3.3+0\n",
      "\u001b[32m\u001b[1m  Installed\u001b[22m\u001b[39m ShiftedArrays ──────────────── v1.0.0\n",
      "\u001b[32m\u001b[1m  Installed\u001b[22m\u001b[39m Compat ─────────────────────── v3.19.0\n",
      "\u001b[32m\u001b[1m  Installed\u001b[22m\u001b[39m StatsModels ────────────────── v0.6.15\n",
      "\u001b[32m\u001b[1m  Installed\u001b[22m\u001b[39m SpecialFunctions ───────────── v0.10.3\n",
      "\u001b[32m\u001b[1m  Installed\u001b[22m\u001b[39m StructTypes ────────────────── v1.1.0\n",
      "\u001b[32m\u001b[1m  Installed\u001b[22m\u001b[39m RCall ──────────────────────── v0.13.9\n",
      "\u001b[32m\u001b[1m  Installed\u001b[22m\u001b[39m InvertedIndices ────────────── v1.0.0\n",
      "\u001b[32m\u001b[1m  Installed\u001b[22m\u001b[39m Rmath_jll ──────────────────── v0.2.2+1\n",
      "\u001b[32m\u001b[1m  Installed\u001b[22m\u001b[39m DataValueInterfaces ────────── v1.0.0\n",
      "\u001b[32m\u001b[1m  Installed\u001b[22m\u001b[39m IteratorInterfaceExtensions ── v1.0.0\n",
      "\u001b[32m\u001b[1m  Installed\u001b[22m\u001b[39m PooledArrays ───────────────── v0.5.3\n",
      "\u001b[32m\u001b[1m  Installed\u001b[22m\u001b[39m Tables ─────────────────────── v1.1.0\n",
      "\u001b[32m\u001b[1m  Installed\u001b[22m\u001b[39m StatsFuns ──────────────────── v0.9.5\n",
      "\u001b[32m\u001b[1m  Installed\u001b[22m\u001b[39m StatsBase ──────────────────── v0.33.2\n",
      "\u001b[32m\u001b[1m  Installed\u001b[22m\u001b[39m SortingAlgorithms ──────────── v0.3.1\n",
      "\u001b[32m\u001b[1m  Installed\u001b[22m\u001b[39m Reexport ───────────────────── v0.2.0\n",
      "\u001b[32m\u001b[1m  Installed\u001b[22m\u001b[39m Missings ───────────────────── v0.4.4\n",
      "\u001b[32m\u001b[1m  Installed\u001b[22m\u001b[39m DataAPI ────────────────────── v1.3.0\n",
      "\u001b[32m\u001b[1m  Installed\u001b[22m\u001b[39m Requires ───────────────────── v1.1.0\n",
      "\u001b[32m\u001b[1m  Installed\u001b[22m\u001b[39m OrderedCollections ─────────── v1.3.1\n",
      "\u001b[32m\u001b[1m  Installed\u001b[22m\u001b[39m TableTraits ────────────────── v1.0.0\n",
      "\u001b[32m\u001b[1m  Installed\u001b[22m\u001b[39m DataFrames ─────────────────── v0.21.7\n",
      "\u001b[32m\u001b[1m  Installed\u001b[22m\u001b[39m WinReg ─────────────────────── v0.3.1\n",
      "\u001b[32m\u001b[1m  Installed\u001b[22m\u001b[39m Rmath ──────────────────────── v0.6.1\n",
      "\u001b[32m\u001b[1m  Installed\u001b[22m\u001b[39m CategoricalArrays ──────────── v0.8.3\n",
      "\u001b[32m\u001b[1m  Installed\u001b[22m\u001b[39m DataStructures ─────────────── v0.18.7\n",
      "######################################################################### 100.0%\n",
      "######################################################################### 100.0%\n",
      "######################################################################### 100.0%\n",
      "\u001b[32m\u001b[1mUpdating\u001b[22m\u001b[39m `~/git/jupyNixDsF/.julia_pkgs/environments/v1.5/Project.toml`\n",
      " \u001b[90m [6f49c342] \u001b[39m\u001b[92m+ RCall v0.13.9\u001b[39m\n",
      "\u001b[32m\u001b[1mUpdating\u001b[22m\u001b[39m `~/git/jupyNixDsF/.julia_pkgs/environments/v1.5/Manifest.toml`\n",
      " \u001b[90m [324d7699] \u001b[39m\u001b[92m+ CategoricalArrays v0.8.3\u001b[39m\n",
      " \u001b[90m [34da2185] \u001b[39m\u001b[92m+ Compat v3.19.0\u001b[39m\n",
      " \u001b[90m [e66e0078] \u001b[39m\u001b[92m+ CompilerSupportLibraries_jll v0.3.3+0\u001b[39m\n",
      " \u001b[90m [9a962f9c] \u001b[39m\u001b[92m+ DataAPI v1.3.0\u001b[39m\n",
      " \u001b[90m [a93c6f00] \u001b[39m\u001b[92m+ DataFrames v0.21.7\u001b[39m\n",
      " \u001b[90m [864edb3b] \u001b[39m\u001b[92m+ DataStructures v0.18.7\u001b[39m\n",
      " \u001b[90m [e2d170a0] \u001b[39m\u001b[92m+ DataValueInterfaces v1.0.0\u001b[39m\n",
      " \u001b[90m [41ab1584] \u001b[39m\u001b[92m+ InvertedIndices v1.0.0\u001b[39m\n",
      " \u001b[90m [82899510] \u001b[39m\u001b[92m+ IteratorInterfaceExtensions v1.0.0\u001b[39m\n",
      " \u001b[90m [e1d29d7a] \u001b[39m\u001b[92m+ Missings v0.4.4\u001b[39m\n",
      " \u001b[90m [efe28fd5] \u001b[39m\u001b[92m+ OpenSpecFun_jll v0.5.3+3\u001b[39m\n",
      " \u001b[90m [bac558e1] \u001b[39m\u001b[92m+ OrderedCollections v1.3.1\u001b[39m\n",
      " \u001b[90m [2dfb63ee] \u001b[39m\u001b[92m+ PooledArrays v0.5.3\u001b[39m\n",
      " \u001b[90m [6f49c342] \u001b[39m\u001b[92m+ RCall v0.13.9\u001b[39m\n",
      " \u001b[90m [189a3867] \u001b[39m\u001b[92m+ Reexport v0.2.0\u001b[39m\n",
      " \u001b[90m [ae029012] \u001b[39m\u001b[92m+ Requires v1.1.0\u001b[39m\n",
      " \u001b[90m [79098fc4] \u001b[39m\u001b[92m+ Rmath v0.6.1\u001b[39m\n",
      " \u001b[90m [f50d1b31] \u001b[39m\u001b[92m+ Rmath_jll v0.2.2+1\u001b[39m\n",
      " \u001b[90m [1277b4bf] \u001b[39m\u001b[92m+ ShiftedArrays v1.0.0\u001b[39m\n",
      " \u001b[90m [a2af1166] \u001b[39m\u001b[92m+ SortingAlgorithms v0.3.1\u001b[39m\n",
      " \u001b[90m [276daf66] \u001b[39m\u001b[92m+ SpecialFunctions v0.10.3\u001b[39m\n",
      " \u001b[90m [2913bbd2] \u001b[39m\u001b[92m+ StatsBase v0.33.2\u001b[39m\n",
      " \u001b[90m [4c63d2b9] \u001b[39m\u001b[92m+ StatsFuns v0.9.5\u001b[39m\n",
      " \u001b[90m [3eaba693] \u001b[39m\u001b[92m+ StatsModels v0.6.15\u001b[39m\n",
      " \u001b[90m [856f2bd8] \u001b[39m\u001b[92m+ StructTypes v1.1.0\u001b[39m\n",
      " \u001b[90m [3783bdb8] \u001b[39m\u001b[92m+ TableTraits v1.0.0\u001b[39m\n",
      " \u001b[90m [bd369af6] \u001b[39m\u001b[92m+ Tables v1.1.0\u001b[39m\n",
      " \u001b[90m [1b915085] \u001b[39m\u001b[92m+ WinReg v0.3.1\u001b[39m\n",
      " \u001b[90m [8bb1440f] \u001b[39m\u001b[92m+ DelimitedFiles\u001b[39m\n",
      " \u001b[90m [9fa8497b] \u001b[39m\u001b[92m+ Future\u001b[39m\n",
      " \u001b[90m [37e2e46d] \u001b[39m\u001b[92m+ LinearAlgebra\u001b[39m\n",
      " \u001b[90m [1a1011a3] \u001b[39m\u001b[92m+ SharedArrays\u001b[39m\n",
      " \u001b[90m [2f01184e] \u001b[39m\u001b[92m+ SparseArrays\u001b[39m\n",
      " \u001b[90m [10745b16] \u001b[39m\u001b[92m+ Statistics\u001b[39m\n",
      "\u001b[32m\u001b[1m   Building\u001b[22m\u001b[39m RCall → `~/git/jupyNixDsF/.julia_pkgs/packages/RCall/AEOQ7/deps/build.log`\n",
      "\u001b[32m\u001b[1m   Building\u001b[22m\u001b[39m Conda → `~/git/jupyNixDsF/.julia_pkgs/packages/Conda/3rPhK/deps/build.log`\n",
      "\u001b[32m\u001b[1m   Building\u001b[22m\u001b[39m RCall → `~/git/jupyNixDsF/.julia_pkgs/packages/RCall/AEOQ7/deps/build.log`\n"
     ]
    }
   ],
   "source": [
    "Pkg.add(\"RCall\")\n",
    "Pkg.build(\"RCall\")"
   ]
  },
  {
   "cell_type": "code",
   "execution_count": 2,
   "metadata": {
    "collapsed": false,
    "jupyter": {
     "outputs_hidden": false
    }
   },
   "outputs": [
    {
     "name": "stderr",
     "output_type": "stream",
     "text": [
      "┌ Info: Precompiling RCall [6f49c342-dc21-5d91-9882-a32aef131414]\n",
      "└ @ Base loading.jl:1278\n"
     ]
    }
   ],
   "source": [
    "using RCall"
   ]
  },
  {
   "cell_type": "code",
   "execution_count": 6,
   "metadata": {
    "collapsed": false,
    "jupyter": {
     "outputs_hidden": false
    }
   },
   "outputs": [
    {
     "data": {
      "text/plain": [
       "1"
      ]
     },
     "execution_count": 6,
     "metadata": {},
     "output_type": "execute_result"
    }
   ],
   "source": [
    "z = 1"
   ]
  },
  {
   "cell_type": "code",
   "execution_count": 7,
   "metadata": {
    "collapsed": false,
    "jupyter": {
     "outputs_hidden": false
    }
   },
   "outputs": [
    {
     "data": {
      "text/plain": [
       "1"
      ]
     },
     "execution_count": 7,
     "metadata": {},
     "output_type": "execute_result"
    }
   ],
   "source": [
    "@rput z"
   ]
  },
  {
   "cell_type": "code",
   "execution_count": 11,
   "metadata": {
    "collapsed": false,
    "jupyter": {
     "outputs_hidden": false
    }
   },
   "outputs": [
    {
     "data": {
      "text/plain": [
       "RObject{RealSxp}\n",
       " [1]  0.6054359  0.1689261  0.4822710 -1.6321031 -1.0171163  0.8770753\n",
       " [7] -0.4920447  0.1515525  0.4297158  1.3115319\n"
      ]
     },
     "execution_count": 11,
     "metadata": {},
     "output_type": "execute_result"
    }
   ],
   "source": [
    "R\"rnorm(10)\""
   ]
  },
  {
   "cell_type": "code",
   "execution_count": 9,
   "metadata": {
    "collapsed": false,
    "jupyter": {
     "outputs_hidden": false
    }
   },
   "outputs": [
    {
     "data": {
      "text/plain": [
       "10-element Array{Float64,1}:\n",
       "  0.4348014753109156\n",
       " -0.0889458195484859\n",
       "  0.2938706350433668\n",
       "  0.5040694413144682\n",
       "  0.015024839833011231\n",
       " -0.36424964628958983\n",
       "  1.8879793848720101\n",
       "  1.9044841192293305\n",
       "  0.5519676501879583\n",
       " -0.23843422690393212"
      ]
     },
     "execution_count": 9,
     "metadata": {},
     "output_type": "execute_result"
    }
   ],
   "source": [
    "x = randn(10)"
   ]
  },
  {
   "cell_type": "code",
   "execution_count": 8,
   "metadata": {
    "collapsed": false,
    "jupyter": {
     "outputs_hidden": false
    }
   },
   "outputs": [
    {
     "data": {
      "text/plain": [
       "RObject{VecSxp}\n",
       "\n",
       "\tOne Sample t-test\n",
       "\n",
       "data:  `#JL`$x\n",
       "t = -0.66284, df = 9, p-value = 0.524\n",
       "alternative hypothesis: true mean is not equal to 0\n",
       "95 percent confidence interval:\n",
       " -0.8525699  0.4661656\n",
       "sample estimates:\n",
       " mean of x \n",
       "-0.1932021 \n",
       "\n"
      ]
     },
     "execution_count": 8,
     "metadata": {},
     "output_type": "execute_result"
    }
   ],
   "source": [
    "R\"t.test($x)\""
   ]
  },
  {
   "cell_type": "code",
   "execution_count": 11,
   "metadata": {
    "collapsed": false,
    "jupyter": {
     "outputs_hidden": false
    }
   },
   "outputs": [
    {
     "data": {
      "text/plain": [
       "RObject{VecSxp}\n",
       "$par\n",
       "[1] -1.56343\n",
       "\n",
       "$value\n",
       "[1] -1.570796\n",
       "\n",
       "$counts\n",
       "function gradient \n",
       "      14       13 \n",
       "\n",
       "$convergence\n",
       "[1] 0\n",
       "\n",
       "$message\n",
       "NULL\n",
       "\n"
      ]
     },
     "execution_count": 11,
     "metadata": {},
     "output_type": "execute_result"
    }
   ],
   "source": [
    "R\"optim(0, $(x -> x-cos(x)), method='BFGS')\""
   ]
  },
  {
   "cell_type": "code",
   "execution_count": 24,
   "metadata": {},
   "outputs": [],
   "source": [
    "using RCall €ËË°°ÙÙÙ\n",
    "@rlibrary ggplot2"
   ]
  },
  {
   "cell_type": "code",
   "execution_count": 25,
   "metadata": {},
   "outputs": [
    {
     "ename": "LoadError",
     "evalue": "UndefVarError: class not defined",
     "output_type": "error",
     "traceback": [
      "UndefVarError: class not defined",
      "",
      "Stacktrace:",
      " [1] top-level scope at In[25]:1",
      " [2] include_string(::Function, ::Module, ::String, ::String) at /nix/store/lnqhsg53az7p9m1vg7l4k2kjwyv4cp39-julia-1.3.1/lib/julia/sys.so:?",
      " [3] execute_code(::String, ::String) at /home/co/git/jupyNixDsF/.julia_pkgs/packages/IJulia/rWZ9e/src/execute_request.jl:27",
      " [4] execute_request(::ZMQ.Socket, ::IJulia.Msg) at /home/co/git/jupyNixDsF/.julia_pkgs/packages/IJulia/rWZ9e/src/execute_request.jl:86",
      " [5] #invokelatest#1 at ./essentials.jl:710 [inlined]",
      " [6] invokelatest at ./essentials.jl:709 [inlined]",
      " [7] eventloop(::ZMQ.Socket) at /home/co/git/jupyNixDsF/.julia_pkgs/packages/IJulia/rWZ9e/src/eventloop.jl:8",
      " [8] (::IJulia.var\"#15#18\")() at ./task.jl:356"
     ]
    }
   ],
   "source": [
    "ggplot(mpg, aes(displ, hwy, colour = class)) + \n",
    "  geom_point()"
   ]
  },
  {
   "cell_type": "code",
   "execution_count": 17,
   "metadata": {},
   "outputs": [
    {
     "ename": "LoadError",
     "evalue": "REvalError: Error: `expr` must quote a symbol, scalar, or call\nBacktrace:\n    █\n 1. └─(function (x, y, ..., data, facets = NULL, margins = FALSE, geom = \"auto\", ...\n 2.   └─rlang::quo_name(exprs$x)\n 3.     └─rlang::expr_name(quo_squash(quo))",
     "output_type": "error",
     "traceback": [
      "REvalError: Error: `expr` must quote a symbol, scalar, or call\nBacktrace:\n    █\n 1. └─(function (x, y, ..., data, facets = NULL, margins = FALSE, geom = \"auto\", ...\n 2.   └─rlang::quo_name(exprs$x)\n 3.     └─rlang::expr_name(quo_squash(quo))",
      "",
      "Stacktrace:",
      " [1] handle_eval_stderr(; as_warning::Bool) at /home/co/git/jupyNixDsF/.julia_pkgs/packages/RCall/AEOQ7/src/io.jl:162",
      " [2] reval_p(::Ptr{LangSxp}, ::Ptr{EnvSxp}) at /home/co/git/jupyNixDsF/.julia_pkgs/packages/RCall/AEOQ7/src/eval.jl:99",
      " [3] reval_p at /home/co/git/jupyNixDsF/.julia_pkgs/packages/RCall/AEOQ7/src/eval.jl:95 [inlined]",
      " [4] rcall_p(::RObject{ClosSxp}, ::UnitRange{Int64}, ::Vararg{Any,N} where N; kwargs::Base.Iterators.Pairs{Union{},Union{},Tuple{},NamedTuple{,Tuple{}}}) at /home/co/git/jupyNixDsF/.julia_pkgs/packages/RCall/AEOQ7/src/language.jl:30",
      " [5] rcall_p(::RObject{ClosSxp}, ::UnitRange{Int64}, ::Vararg{Any,N} where N) at /home/co/git/jupyNixDsF/.julia_pkgs/packages/RCall/AEOQ7/src/language.jl:30",
      " [6] rcall(::RObject{ClosSxp}, ::UnitRange{Int64}, ::Vararg{Any,N} where N; kwargs::Base.Iterators.Pairs{Union{},Union{},Tuple{},NamedTuple{,Tuple{}}}) at /home/co/git/jupyNixDsF/.julia_pkgs/packages/RCall/AEOQ7/src/language.jl:37",
      " [7] rcall(::RObject{ClosSxp}, ::UnitRange{Int64}, ::Vararg{Any,N} where N) at /home/co/git/jupyNixDsF/.julia_pkgs/packages/RCall/AEOQ7/src/language.jl:37",
      " [8] (::RObject{ClosSxp})(::UnitRange{Int64}, ::Vararg{Any,N} where N; kwargs::Base.Iterators.Pairs{Union{},Union{},Tuple{},NamedTuple{,Tuple{}}}) at /home/co/git/jupyNixDsF/.julia_pkgs/packages/RCall/AEOQ7/src/language.jl:39",
      " [9] (::RObject{ClosSxp})(::UnitRange{Int64}, ::Vararg{Any,N} where N) at /home/co/git/jupyNixDsF/.julia_pkgs/packages/RCall/AEOQ7/src/language.jl:39",
      " [10] top-level scope at In[17]:1",
      " [11] include_string(::Function, ::Module, ::String, ::String) at /nix/store/lnqhsg53az7p9m1vg7l4k2kjwyv4cp39-julia-1.3.1/lib/julia/sys.so:?",
      " [12] execute_code(::String, ::String) at /home/co/git/jupyNixDsF/.julia_pkgs/packages/IJulia/rWZ9e/src/execute_request.jl:27",
      " [13] execute_request(::ZMQ.Socket, ::IJulia.Msg) at /home/co/git/jupyNixDsF/.julia_pkgs/packages/IJulia/rWZ9e/src/execute_request.jl:86",
      " [14] #invokelatest#1 at ./essentials.jl:710 [inlined]",
      " [15] invokelatest at ./essentials.jl:709 [inlined]",
      " [16] eventloop(::ZMQ.Socket) at /home/co/git/jupyNixDsF/.julia_pkgs/packages/IJulia/rWZ9e/src/eventloop.jl:8",
      " [17] (::IJulia.var\"#15#18\")() at ./task.jl:356"
     ]
    }
   ],
   "source": [
    "qplot(1:10,[i^2 for i in 1:10])"
   ]
  },
  {
   "cell_type": "code",
   "execution_count": 19,
   "metadata": {},
   "outputs": [
    {
     "ename": "LoadError",
     "evalue": "UndefVarError: d not defined",
     "output_type": "error",
     "traceback": [
      "UndefVarError: d not defined",
      "",
      "Stacktrace:",
      " [1] top-level scope at In[19]:1",
      " [2] include_string(::Function, ::Module, ::String, ::String) at /nix/store/lnqhsg53az7p9m1vg7l4k2kjwyv4cp39-julia-1.3.1/lib/julia/sys.so:?",
      " [3] execute_code(::String, ::String) at /home/co/git/jupyNixDsF/.julia_pkgs/packages/IJulia/rWZ9e/src/execute_request.jl:27",
      " [4] execute_request(::ZMQ.Socket, ::IJulia.Msg) at /home/co/git/jupyNixDsF/.julia_pkgs/packages/IJulia/rWZ9e/src/execute_request.jl:86",
      " [5] #invokelatest#1 at ./essentials.jl:710 [inlined]",
      " [6] invokelatest at ./essentials.jl:709 [inlined]",
      " [7] eventloop(::ZMQ.Socket) at /home/co/git/jupyNixDsF/.julia_pkgs/packages/IJulia/rWZ9e/src/eventloop.jl:8",
      " [8] (::IJulia.var\"#15#18\")() at ./task.jl:356"
     ]
    }
   ],
   "source": [
    "ggplot(d, aes(x=:x)) +\n",
    "  geom_ribbon(aes(ymin=:u_min, ymax=:u_max), fill=\"blue\", alpha=0.5) +\n",
    "  geom_line(aes(y=:u), color=\"blue\") +\n",
    "  lims(x=[0,5], y=[0,10]) +\n",
    "  geom_line(aes(y=:solution), color=\"red\") |>\n",
    "  p -> ggsave(\"p1.pdf\", p)"
   ]
  },
  {
   "cell_type": "code",
   "execution_count": 23,
   "metadata": {},
   "outputs": [
    {
     "ename": "LoadError",
     "evalue": "REvalError: Error: Mapping should be created with `aes() or `aes_()`.\nBacktrace:\n    █\n 1. ├─(function (data = NULL, mapping = aes(), ..., environment = parent.frame()) ...\n 2. └─ggplot2:::ggplot.default(1:10, 1:10)",
     "output_type": "error",
     "traceback": [
      "REvalError: Error: Mapping should be created with `aes() or `aes_()`.\nBacktrace:\n    █\n 1. ├─(function (data = NULL, mapping = aes(), ..., environment = parent.frame()) ...\n 2. └─ggplot2:::ggplot.default(1:10, 1:10)",
      "",
      "Stacktrace:",
      " [1] handle_eval_stderr(; as_warning::Bool) at /home/co/git/jupyNixDsF/.julia_pkgs/packages/RCall/AEOQ7/src/io.jl:162",
      " [2] reval_p(::Ptr{LangSxp}, ::Ptr{EnvSxp}) at /home/co/git/jupyNixDsF/.julia_pkgs/packages/RCall/AEOQ7/src/eval.jl:99",
      " [3] reval_p at /home/co/git/jupyNixDsF/.julia_pkgs/packages/RCall/AEOQ7/src/eval.jl:95 [inlined]",
      " [4] rcall_p(::RObject{ClosSxp}, ::UnitRange{Int64}, ::Vararg{Any,N} where N; kwargs::Base.Iterators.Pairs{Union{},Union{},Tuple{},NamedTuple{,Tuple{}}}) at /home/co/git/jupyNixDsF/.julia_pkgs/packages/RCall/AEOQ7/src/language.jl:30",
      " [5] rcall_p(::RObject{ClosSxp}, ::UnitRange{Int64}, ::Vararg{Any,N} where N) at /home/co/git/jupyNixDsF/.julia_pkgs/packages/RCall/AEOQ7/src/language.jl:30",
      " [6] rcall(::RObject{ClosSxp}, ::UnitRange{Int64}, ::Vararg{Any,N} where N; kwargs::Base.Iterators.Pairs{Union{},Union{},Tuple{},NamedTuple{,Tuple{}}}) at /home/co/git/jupyNixDsF/.julia_pkgs/packages/RCall/AEOQ7/src/language.jl:37",
      " [7] rcall(::RObject{ClosSxp}, ::UnitRange{Int64}, ::Vararg{Any,N} where N) at /home/co/git/jupyNixDsF/.julia_pkgs/packages/RCall/AEOQ7/src/language.jl:37",
      " [8] (::RObject{ClosSxp})(::UnitRange{Int64}, ::Vararg{Any,N} where N; kwargs::Base.Iterators.Pairs{Union{},Union{},Tuple{},NamedTuple{,Tuple{}}}) at /home/co/git/jupyNixDsF/.julia_pkgs/packages/RCall/AEOQ7/src/language.jl:39",
      " [9] (::RObject{ClosSxp})(::UnitRange{Int64}, ::Vararg{Any,N} where N) at /home/co/git/jupyNixDsF/.julia_pkgs/packages/RCall/AEOQ7/src/language.jl:39",
      " [10] top-level scope at In[23]:1",
      " [11] include_string(::Function, ::Module, ::String, ::String) at /nix/store/lnqhsg53az7p9m1vg7l4k2kjwyv4cp39-julia-1.3.1/lib/julia/sys.so:?",
      " [12] execute_code(::String, ::String) at /home/co/git/jupyNixDsF/.julia_pkgs/packages/IJulia/rWZ9e/src/execute_request.jl:27",
      " [13] execute_request(::ZMQ.Socket, ::IJulia.Msg) at /home/co/git/jupyNixDsF/.julia_pkgs/packages/IJulia/rWZ9e/src/execute_request.jl:86",
      " [14] #invokelatest#1 at ./essentials.jl:710 [inlined]",
      " [15] invokelatest at ./essentials.jl:709 [inlined]",
      " [16] eventloop(::ZMQ.Socket) at /home/co/git/jupyNixDsF/.julia_pkgs/packages/IJulia/rWZ9e/src/eventloop.jl:8",
      " [17] (::IJulia.var\"#15#18\")() at ./task.jl:356"
     ]
    }
   ],
   "source": [
    "ggplot(1:10,1:10)"
   ]
  },
  {
   "cell_type": "code",
   "execution_count": null,
   "metadata": {},
   "outputs": [],
   "source": []
  }
 ],
 "metadata": {
  "kernelspec": {
   "display_name": "Julia - Julia-data-env",
   "language": "julia",
   "name": "julia_julia-data-env"
  },
  "language_info": {
   "file_extension": ".jl",
   "mimetype": "application/julia",
   "name": "julia",
   "version": "1.5.1"
  },
  "name": "Julia-with-R.ipynb"
 },
 "nbformat": 4,
 "nbformat_minor": 4
}
