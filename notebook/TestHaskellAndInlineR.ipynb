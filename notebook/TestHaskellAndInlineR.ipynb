{
 "cells": [
  {
   "cell_type": "code",
   "execution_count": 1,
   "metadata": {
    "collapsed": false,
    "jupyter": {
     "outputs_hidden": false
    }
   },
   "outputs": [],
   "source": [
    ":set -fno-ghci-sandbox"
   ]
  },
  {
   "cell_type": "code",
   "execution_count": 2,
   "metadata": {
    "collapsed": false,
    "jupyter": {
     "outputs_hidden": false
    }
   },
   "outputs": [
    {
     "data": {
      "text/html": [
       "<style>/* Styles used for the Hoogle display in the pager */\n",
       ".hoogle-doc {\n",
       "display: block;\n",
       "padding-bottom: 1.3em;\n",
       "padding-left: 0.4em;\n",
       "}\n",
       ".hoogle-code {\n",
       "display: block;\n",
       "font-family: monospace;\n",
       "white-space: pre;\n",
       "}\n",
       ".hoogle-text {\n",
       "display: block;\n",
       "}\n",
       ".hoogle-name {\n",
       "color: green;\n",
       "font-weight: bold;\n",
       "}\n",
       ".hoogle-head {\n",
       "font-weight: bold;\n",
       "}\n",
       ".hoogle-sub {\n",
       "display: block;\n",
       "margin-left: 0.4em;\n",
       "}\n",
       ".hoogle-package {\n",
       "font-weight: bold;\n",
       "font-style: italic;\n",
       "}\n",
       ".hoogle-module {\n",
       "font-weight: bold;\n",
       "}\n",
       ".hoogle-class {\n",
       "font-weight: bold;\n",
       "}\n",
       ".get-type {\n",
       "color: green;\n",
       "font-weight: bold;\n",
       "font-family: monospace;\n",
       "display: block;\n",
       "white-space: pre-wrap;\n",
       "}\n",
       ".show-type {\n",
       "color: green;\n",
       "font-weight: bold;\n",
       "font-family: monospace;\n",
       "margin-left: 1em;\n",
       "}\n",
       ".mono {\n",
       "font-family: monospace;\n",
       "display: block;\n",
       "}\n",
       ".err-msg {\n",
       "color: red;\n",
       "font-style: italic;\n",
       "font-family: monospace;\n",
       "white-space: pre;\n",
       "display: block;\n",
       "}\n",
       "#unshowable {\n",
       "color: red;\n",
       "font-weight: bold;\n",
       "}\n",
       ".err-msg.in.collapse {\n",
       "padding-top: 0.7em;\n",
       "}\n",
       ".highlight-code {\n",
       "white-space: pre;\n",
       "font-family: monospace;\n",
       "}\n",
       ".suggestion-warning { \n",
       "font-weight: bold;\n",
       "color: rgb(200, 130, 0);\n",
       "}\n",
       ".suggestion-error { \n",
       "font-weight: bold;\n",
       "color: red;\n",
       "}\n",
       ".suggestion-name {\n",
       "font-weight: bold;\n",
       "}\n",
       "</style><div class=\"suggestion-name\" style=\"clear:both;\">Unused LANGUAGE pragma</div><div class=\"suggestion-row\" style=\"float: left;\"><div class=\"suggestion-warning\">Found:</div><div class=\"highlight-code\" id=\"haskell\">{-# LANGUAGE TemplateHaskell #-}</div></div><div class=\"suggestion-row\" style=\"float: left;\"><div class=\"suggestion-warning\">Why Not:</div><div class=\"highlight-code\" id=\"haskell\"></div></div><div class=\"suggestion-name\" style=\"clear:both;\">Unused LANGUAGE pragma</div><div class=\"suggestion-row\" style=\"float: left;\"><div class=\"suggestion-warning\">Found:</div><div class=\"highlight-code\" id=\"haskell\">{-# LANGUAGE QuasiQuotes #-}</div></div><div class=\"suggestion-row\" style=\"float: left;\"><div class=\"suggestion-warning\">Why Not:</div><div class=\"highlight-code\" id=\"haskell\"></div></div>"
      ],
      "text/plain": [
       "Line 1: Unused LANGUAGE pragma\n",
       "Found:\n",
       "{-# LANGUAGE TemplateHaskell #-}\n",
       "Why not:\n",
       "Line 2: Unused LANGUAGE pragma\n",
       "Found:\n",
       "{-# LANGUAGE QuasiQuotes #-}\n",
       "Why not:"
      ]
     },
     "metadata": {},
     "output_type": "display_data"
    }
   ],
   "source": [
    "{-# LANGUAGE TemplateHaskell #-}\n",
    "{-# LANGUAGE QuasiQuotes #-}"
   ]
  },
  {
   "cell_type": "code",
   "execution_count": 3,
   "metadata": {
    "collapsed": false,
    "jupyter": {
     "outputs_hidden": false
    }
   },
   "outputs": [
    {
     "ename": "",
     "evalue": "",
     "header": "MessageHeader {mhIdentifiers = [\"b9bde1bc-1cb2-4e29-83f0-44d072a54461\"], mhParentHeader = Just (MessageHeader {mhIdentifiers = [\"b9bde1bc-1cb2-4e29-83f0-44d072a54461\"], mhParentHeader = Nothing, mhMetadata = Metadata (fromList [(\"jupyter\",Object (fromList [(\"outputs_hidden\",Bool False)])),(\"recordTiming\",Bool False),(\"deletedCells\",Array []),(\"cellId\",String \"88b77f01-b56b-439f-90aa-80bf3455b5bf\"),(\"collapsed\",Bool False)]), mhMessageId = UUID {uuidToString = \"33fddc2a-b9cb-4d07-aa64-badd977e7696\"}, mhSessionId = UUID {uuidToString = \"b9bde1bc-1cb2-4e29-83f0-44d072a54461\"}, mhUsername = \"\", mhMsgType = ExecuteRequestMessage, mhBuffers = []}), mhMetadata = Metadata (fromList []), mhMessageId = UUID {uuidToString = \"fbda688a-7963-4cbc-a28d-fd0f97fd6f74\"}, mhSessionId = UUID {uuidToString = \"b9bde1bc-1cb2-4e29-83f0-44d072a54461\"}, mhUsername = \"\", mhMsgType = ExecuteErrorMessage, mhBuffers = []}",
     "output_type": "error",
     "traceback": [
      "Parse error (line 1, column 1): Unknown directive: 'show'."
     ]
    }
   ],
   "source": [
    ":show modules"
   ]
  },
  {
   "cell_type": "code",
   "execution_count": 4,
   "metadata": {
    "collapsed": false,
    "jupyter": {
     "outputs_hidden": false
    }
   },
   "outputs": [],
   "source": [
    "import qualified Language.R as R\n",
    "import Language.R.QQ"
   ]
  },
  {
   "cell_type": "code",
   "execution_count": 5,
   "metadata": {
    "collapsed": false,
    "jupyter": {
     "outputs_hidden": false
    }
   },
   "outputs": [
    {
     "data": {
      "text/html": [
       "<style>/* Styles used for the Hoogle display in the pager */\n",
       ".hoogle-doc {\n",
       "display: block;\n",
       "padding-bottom: 1.3em;\n",
       "padding-left: 0.4em;\n",
       "}\n",
       ".hoogle-code {\n",
       "display: block;\n",
       "font-family: monospace;\n",
       "white-space: pre;\n",
       "}\n",
       ".hoogle-text {\n",
       "display: block;\n",
       "}\n",
       ".hoogle-name {\n",
       "color: green;\n",
       "font-weight: bold;\n",
       "}\n",
       ".hoogle-head {\n",
       "font-weight: bold;\n",
       "}\n",
       ".hoogle-sub {\n",
       "display: block;\n",
       "margin-left: 0.4em;\n",
       "}\n",
       ".hoogle-package {\n",
       "font-weight: bold;\n",
       "font-style: italic;\n",
       "}\n",
       ".hoogle-module {\n",
       "font-weight: bold;\n",
       "}\n",
       ".hoogle-class {\n",
       "font-weight: bold;\n",
       "}\n",
       ".get-type {\n",
       "color: green;\n",
       "font-weight: bold;\n",
       "font-family: monospace;\n",
       "display: block;\n",
       "white-space: pre-wrap;\n",
       "}\n",
       ".show-type {\n",
       "color: green;\n",
       "font-weight: bold;\n",
       "font-family: monospace;\n",
       "margin-left: 1em;\n",
       "}\n",
       ".mono {\n",
       "font-family: monospace;\n",
       "display: block;\n",
       "}\n",
       ".err-msg {\n",
       "color: red;\n",
       "font-style: italic;\n",
       "font-family: monospace;\n",
       "white-space: pre;\n",
       "display: block;\n",
       "}\n",
       "#unshowable {\n",
       "color: red;\n",
       "font-weight: bold;\n",
       "}\n",
       ".err-msg.in.collapse {\n",
       "padding-top: 0.7em;\n",
       "}\n",
       ".highlight-code {\n",
       "white-space: pre;\n",
       "font-family: monospace;\n",
       "}\n",
       ".suggestion-warning { \n",
       "font-weight: bold;\n",
       "color: rgb(200, 130, 0);\n",
       "}\n",
       ".suggestion-error { \n",
       "font-weight: bold;\n",
       "color: red;\n",
       "}\n",
       ".suggestion-name {\n",
       "font-weight: bold;\n",
       "}\n",
       "</style><span class='get-type'>R.runRegion :: forall a. NFData a => (forall s. R s a) -> IO a</span>"
      ],
      "text/plain": [
       "R.runRegion :: forall a. NFData a => (forall s. R s a) -> IO a"
      ]
     },
     "metadata": {},
     "output_type": "display_data"
    }
   ],
   "source": [
    ":t R.runRegion"
   ]
  },
  {
   "cell_type": "code",
   "execution_count": 6,
   "metadata": {
    "collapsed": false,
    "jupyter": {
     "outputs_hidden": false
    }
   },
   "outputs": [
    {
     "data": {
      "text/html": [
       "<style>/* Styles used for the Hoogle display in the pager */\n",
       ".hoogle-doc {\n",
       "display: block;\n",
       "padding-bottom: 1.3em;\n",
       "padding-left: 0.4em;\n",
       "}\n",
       ".hoogle-code {\n",
       "display: block;\n",
       "font-family: monospace;\n",
       "white-space: pre;\n",
       "}\n",
       ".hoogle-text {\n",
       "display: block;\n",
       "}\n",
       ".hoogle-name {\n",
       "color: green;\n",
       "font-weight: bold;\n",
       "}\n",
       ".hoogle-head {\n",
       "font-weight: bold;\n",
       "}\n",
       ".hoogle-sub {\n",
       "display: block;\n",
       "margin-left: 0.4em;\n",
       "}\n",
       ".hoogle-package {\n",
       "font-weight: bold;\n",
       "font-style: italic;\n",
       "}\n",
       ".hoogle-module {\n",
       "font-weight: bold;\n",
       "}\n",
       ".hoogle-class {\n",
       "font-weight: bold;\n",
       "}\n",
       ".get-type {\n",
       "color: green;\n",
       "font-weight: bold;\n",
       "font-family: monospace;\n",
       "display: block;\n",
       "white-space: pre-wrap;\n",
       "}\n",
       ".show-type {\n",
       "color: green;\n",
       "font-weight: bold;\n",
       "font-family: monospace;\n",
       "margin-left: 1em;\n",
       "}\n",
       ".mono {\n",
       "font-family: monospace;\n",
       "display: block;\n",
       "}\n",
       ".err-msg {\n",
       "color: red;\n",
       "font-style: italic;\n",
       "font-family: monospace;\n",
       "white-space: pre;\n",
       "display: block;\n",
       "}\n",
       "#unshowable {\n",
       "color: red;\n",
       "font-weight: bold;\n",
       "}\n",
       ".err-msg.in.collapse {\n",
       "padding-top: 0.7em;\n",
       "}\n",
       ".highlight-code {\n",
       "white-space: pre;\n",
       "font-family: monospace;\n",
       "}\n",
       ".suggestion-warning { \n",
       "font-weight: bold;\n",
       "color: rgb(200, 130, 0);\n",
       "}\n",
       ".suggestion-error { \n",
       "font-weight: bold;\n",
       "color: red;\n",
       "}\n",
       ".suggestion-name {\n",
       "font-weight: bold;\n",
       "}\n",
       "</style><span class='get-type'>[r| print(pi) |] :: forall (m :: * -> *). MonadR m => m (SomeSEXP (PrimState m))</span>"
      ],
      "text/plain": [
       "[r| print(pi) |] :: forall (m :: * -> *). MonadR m => m (SomeSEXP (PrimState m))"
      ]
     },
     "metadata": {},
     "output_type": "display_data"
    }
   ],
   "source": [
    ":t [r| print(pi) |]"
   ]
  },
  {
   "cell_type": "code",
   "execution_count": 7,
   "metadata": {
    "collapsed": false,
    "jupyter": {
     "outputs_hidden": false
    }
   },
   "outputs": [
    {
     "data": {
      "text/plain": [
       "[1] 3.141593"
      ]
     },
     "metadata": {},
     "output_type": "display_data"
    }
   ],
   "source": [
    "(R.runRegion $ do _ <- [r| print(pi) |]; return ())"
   ]
  },
  {
   "cell_type": "code",
   "execution_count": 8,
   "metadata": {
    "collapsed": false,
    "jupyter": {
     "outputs_hidden": false
    }
   },
   "outputs": [
    {
     "data": {
      "text/plain": [
       "[1] \"compiler\"  \"graphics\"  \"utils\"     \"grDevices\" \"stats\"     \"datasets\" \n",
       "[7] \"methods\"   \"base\""
      ]
     },
     "metadata": {},
     "output_type": "display_data"
    }
   ],
   "source": [
    "R.runRegion $ do x <- [r| loadedNamespaces() |]; [r| print(x_hs) |]; return ()"
   ]
  },
  {
   "cell_type": "code",
   "execution_count": 9,
   "metadata": {
    "collapsed": false,
    "jupyter": {
     "outputs_hidden": false
    }
   },
   "outputs": [
    {
     "data": {
      "text/plain": [
       "[1] \"cmaes\"     \"stats\"     \"graphics\"  \"grDevices\" \"utils\"     \"datasets\" \n",
       "[7] \"methods\"   \"base\""
      ]
     },
     "metadata": {},
     "output_type": "display_data"
    }
   ],
   "source": [
    "R.runRegion $ do x <- [r| library(cmaes) |]; [r| print(x_hs) |]; return ()"
   ]
  },
  {
   "cell_type": "code",
   "execution_count": 10,
   "metadata": {
    "collapsed": false,
    "jupyter": {
     "outputs_hidden": false
    }
   },
   "outputs": [
    {
     "data": {
      "text/plain": [
       "[1] \"compiler\"  \"graphics\"  \"utils\"     \"grDevices\" \"stats\"     \"datasets\" \n",
       "[7] \"cmaes\"     \"methods\"   \"base\""
      ]
     },
     "metadata": {},
     "output_type": "display_data"
    }
   ],
   "source": [
    "R.runRegion $ do x <- [r| loadedNamespaces() |]; [r| print(x_hs) |]; return ()"
   ]
  },
  {
   "cell_type": "code",
   "execution_count": 11,
   "metadata": {
    "collapsed": false,
    "jupyter": {
     "outputs_hidden": false
    }
   },
   "outputs": [
    {
     "data": {
      "text/plain": [
       "$par\n",
       "[1]  0.001400161 -0.002712781\n",
       "\n",
       "$value\n",
       "[1] 9.319633e-06\n",
       "\n",
       "$counts\n",
       "function gradient \n",
       "     102       NA \n",
       "\n",
       "$convergence\n",
       "[1] 0\n",
       "\n",
       "$message\n",
       "[1] \"Stop fitness reached.\"\n",
       "\n",
       "$constr.violations\n",
       "[1] 0\n",
       "\n",
       "$diagnostic\n",
       "list()\n",
       "\n",
       "attr(,\"class\")\n",
       "[1] \"cma_es.result\""
      ]
     },
     "metadata": {},
     "output_type": "display_data"
    }
   ],
   "source": [
    "R.runRegion $ do x <- [r| cma_es(c(0, 0), function(x, ...) drop(crossprod(x)), lower=rep(-10, 2), upper=rep(10, 2), control=list(stopfitness=1e-5, maxit=400)) |]; [r| print(x_hs) |]; return ()"
   ]
  },
  {
   "cell_type": "code",
   "execution_count": 12,
   "metadata": {
    "collapsed": false,
    "jupyter": {
     "outputs_hidden": false
    }
   },
   "outputs": [],
   "source": [
    ":set -XLambdaCase\n",
    ":set -XDataKinds\n",
    ":set -XGADTs\n",
    ":set -XFlexibleContexts\n",
    ":set -XScopedTypeVariables"
   ]
  },
  {
   "cell_type": "code",
   "execution_count": 13,
   "metadata": {
    "collapsed": false,
    "jupyter": {
     "outputs_hidden": false
    }
   },
   "outputs": [],
   "source": [
    "import qualified Language.R.Matcher as M\n",
    "import qualified Data.Vector.SEXP as V\n",
    "import qualified Language.R.HExp as H\n",
    "import           Language.R (R)"
   ]
  },
  {
   "cell_type": "code",
   "execution_count": 14,
   "metadata": {
    "collapsed": false,
    "jupyter": {
     "outputs_hidden": false
    }
   },
   "outputs": [],
   "source": [
    "int2limVV :: forall s . ([Double] -> Double) -> [Double] -> [Double] -> R s Double\n",
    "int2limVV g l h = do\n",
    "  ss <- [r| hcubature (function (x) matrix(f_hs(x)),\n",
    "                       lowerLimit = l_hs,\n",
    "                       upperLimit = h_hs,\n",
    "                       maxEval = 0,\n",
    "                       vectorInterface=TRUE) |]\n",
    "  R.fromSEXP . R.cast R.SReal <$> [r| ss_hs$integral |]\n",
    "  where\n",
    "    f :: R.SEXP s 'R.Real -> R s [Double]\n",
    "    f w = M.matchOnly go (R.SomeSEXP w) >>= \\case\n",
    "            Left e -> error (show e)\n",
    "            Right xss -> pure $ map g xss\n",
    "      where\n",
    "        go = do\n",
    "           M.hexp R.SReal $ \\(H.Real v) -> do\n",
    "              foo <- M.dim\n",
    "              case foo of\n",
    "                [n,m] -> pure $ map (\\jj -> map (\\ii -> v V.! (jj * n + ii)) [0..n-1]) [0..m-1]\n",
    "                otherwise -> error \"foo\""
   ]
  },
  {
   "cell_type": "code",
   "execution_count": 15,
   "metadata": {
    "collapsed": false,
    "jupyter": {
     "outputs_hidden": false
    }
   },
   "outputs": [],
   "source": [
    "r0 = R.runRegion $ do\n",
    "  _ <- [r| require(cubature) |]\n",
    "  let g :: [Double] -> Double\n",
    "      g [a, b] = exp(negate (a*a + b*b) / 2) / (2 * pi)\n",
    "      g xs     = error $ show xs\n",
    "  int2limVV g [(-3.0), (-3.0)] [3.0, 3.0]"
   ]
  },
  {
   "cell_type": "code",
   "execution_count": 16,
   "metadata": {
    "collapsed": false,
    "jupyter": {
     "outputs_hidden": false
    }
   },
   "outputs": [
    {
     "data": {
      "text/plain": [
       "Loading required package: cubature\n",
       "0.9946063639261128"
      ]
     },
     "metadata": {},
     "output_type": "display_data"
    }
   ],
   "source": [
    "r0"
   ]
  },
  {
   "cell_type": "code",
   "execution_count": 17,
   "metadata": {
    "collapsed": false,
    "jupyter": {
     "outputs_hidden": false
    }
   },
   "outputs": [],
   "source": [
    "cmaes :: forall s . ([Double] -> Double) -> [Double] -> [Double] -> [Double] -> R s (Double, [Double])\n",
    "cmaes g i l h = do\n",
    "  ss <- [r| cma_es (function (x) f_hs(x),\n",
    "                       par = i_hs,\n",
    "                       lower = l_hs,\n",
    "                       upper = h_hs,\n",
    "                       control=list(stopfitness=1e-5, maxit=400)) |]\n",
    "  pars :: [Double] <- R.dynSEXP <$> [r| ss_hs$par |]\n",
    "  value :: Double <- R.dynSEXP <$> [r| ss_hs$value |]\n",
    "  return (value, pars)\n",
    "  where\n",
    "    f :: R.SEXP s 'R.Real -> R s Double\n",
    "    f w = M.matchOnly go (R.SomeSEXP w) >>= \\case\n",
    "            Left e -> error (\"You are here: \" ++ show e)\n",
    "            Right xs -> pure $ g xs\n",
    "      where\n",
    "        go :: M.Matcher s [Double]\n",
    "        go = do\n",
    "           M.hexp R.SReal $ \\(H.Real v) -> do\n",
    "              return $ V.toList v"
   ]
  },
  {
   "cell_type": "code",
   "execution_count": 18,
   "metadata": {
    "collapsed": false,
    "jupyter": {
     "outputs_hidden": false
    }
   },
   "outputs": [
    {
     "data": {
      "text/plain": [
       "(6.313306365090975e-6,[2.467427198716352e-3,4.744569360076329e-4])"
      ]
     },
     "metadata": {},
     "output_type": "display_data"
    }
   ],
   "source": [
    "  r0 <- R.runRegion $ do\n",
    "    baz <- [r| require(cmaes) |]\n",
    "    let g :: [Double] -> Double\n",
    "        g [a, b] = a*a + b*b\n",
    "        g xs     = error $ show xs\n",
    "    cmaes g [0.0, 0.0] [(-10.0), (-10.0)] [10.0, 10.0]\n",
    "  print r0"
   ]
  },
  {
   "cell_type": "code",
   "execution_count": 19,
   "metadata": {
    "collapsed": false,
    "jupyter": {
     "outputs_hidden": false
    }
   },
   "outputs": [
    {
     "data": {
      "text/plain": [
       "(4.897433410053955e-6,[1.3183012007430168e-3,-1.5369706646365406e-3,8.928810280323949e-4])"
      ]
     },
     "metadata": {},
     "output_type": "display_data"
    }
   ],
   "source": [
    "  r1 <- R.runRegion $ do\n",
    "    _ <- [r| require(cmaes) |]\n",
    "    let g :: [Double] -> Double\n",
    "        g [a, b, c] = a*a + b*b + c*c\n",
    "        g xs     = error $ show xs\n",
    "    cmaes g [0.0, 0.0, 0.0] [(-10.0), (-10.0), (-10.0)] [10.0, 10.0, 10.0]\n",
    "  print r1"
   ]
  },
  {
   "cell_type": "markdown",
   "metadata": {},
   "source": [
    "# Example"
   ]
  },
  {
   "cell_type": "markdown",
   "metadata": {
    "jupyter": {
     "outputs_hidden": false
    }
   },
   "source": [
    "We wish to see if when we are given enough samples from a multivariate normal distribution together with their probability density then we can infer the parameters of the generating distribution using CMAES."
   ]
  },
  {
   "cell_type": "markdown",
   "metadata": {},
   "source": [
    "We need to have a well formed covariance matrix"
   ]
  },
  {
   "cell_type": "markdown",
   "metadata": {},
   "source": [
    "$$\\mathrm{K}_{\\mathrm{XX}}=\\operatorname{cov}[\\mathbf{X}, \\mathbf{X}]=\\mathrm{E}\\left[\\left(\\mathbf{X}-\\mu_{\\mathbf{X}}\\right)\\left(\\mathbf{X}-\\mu_{\\mathbf{X}}\\right)^{\\mathrm{T}}\\right]=\\mathbf{E}\\left[\\mathbf{X} \\mathbf{X}^{T}\\right]-\\mu_{\\mathbf{X}} \\mu_{\\mathbf{X}}^{T}$$"
   ]
  },
  {
   "cell_type": "markdown",
   "metadata": {},
   "source": [
    "We can generate one of these from a vector of variances and a\n",
    " correlation matrix. Recall that in a correlation matrix all the\n",
    " diaganols are $1$ and the other entries are in $[-1,1]$."
   ]
  },
  {
   "cell_type": "markdown",
   "metadata": {},
   "source": [
    "$$\\operatorname{corr}(\\mathbf{X})=\\left(\\operatorname{diag}\\left(\\mathbf{K}_{\\mathbf{X} \\mathbf{X}}\\right)\\right)^{-\\frac{1}{2}} \\mathbf{K}_{\\mathbf{X X}}\\left(\\operatorname{diag}\\left(\\mathbf{K}_{\\mathbf{X} \\mathbf{X}}\\right)\\right)^{-\\frac{1}{2}}$$"
   ]
  },
  {
   "cell_type": "markdown",
   "metadata": {},
   "source": [
    "$$\\sigma^2 = \\operatorname{diag}(\\mathbf{K}_{\\mathbf{XX}})$$"
   ]
  },
  {
   "cell_type": "markdown",
   "metadata": {},
   "source": [
    "$$\\rho = \\operatorname{corr}(\\mathbf{X})$$"
   ]
  },
  {
   "cell_type": "markdown",
   "metadata": {},
   "source": [
    "$$\\rho = \\left(\\operatorname{diag}\\left(\\sigma^2\\right)^{-\\frac{1}{2}}\\right)\n",
    "         \\mathbf{K}_{\\mathbf{X X}}\n",
    "         \\left(\\operatorname{diag}\\left(\\sigma^2)\\right)^{-\\frac{1}{2}}\\right)$$"
   ]
  },
  {
   "cell_type": "markdown",
   "metadata": {},
   "source": [
    "$$\\mathbf{K}_{\\mathbf{XX}} = \\operatorname{diag}(\\mathbf{\\sigma})\\operatorname{corr}(\\mathbf{X})\\operatorname{diag}(\\mathbf{\\sigma})$$"
   ]
  },
  {
   "cell_type": "code",
   "execution_count": 20,
   "metadata": {
    "collapsed": false,
    "jupyter": {
     "outputs_hidden": false
    }
   },
   "outputs": [],
   "source": [
    "import GHC.TypeLits\n",
    "import Data.Proxy"
   ]
  },
  {
   "cell_type": "code",
   "execution_count": 21,
   "metadata": {
    "collapsed": false,
    "jupyter": {
     "outputs_hidden": false
    }
   },
   "outputs": [],
   "source": [
    "import qualified Numeric.LinearAlgebra.Static as LS\n",
    "import Prelude hiding ((<>))\n",
    "import Numeric.LinearAlgebra.Static ((<>))"
   ]
  },
  {
   "cell_type": "code",
   "execution_count": 22,
   "metadata": {
    "collapsed": false,
    "jupyter": {
     "outputs_hidden": false
    }
   },
   "outputs": [],
   "source": [
    "corrToCov :: KnownNat n => LS.R n -> LS.Sq n -> LS.Sq n\n",
    "corrToCov sigma rho = kHalf <> rho <> kHalf\n",
    "  where\n",
    "    kHalf = LS.diag sigma"
   ]
  },
  {
   "cell_type": "markdown",
   "metadata": {},
   "source": [
    "Now we can create example samples from a bivariate normal. Note that\n",
    " we fix the means to be $0$ but this could be generalized\n",
    " straightforwardly."
   ]
  },
  {
   "cell_type": "code",
   "execution_count": 23,
   "metadata": {
    "collapsed": false,
    "jupyter": {
     "outputs_hidden": false
    }
   },
   "outputs": [],
   "source": [
    ":set -XDataKinds"
   ]
  },
  {
   "cell_type": "code",
   "execution_count": 24,
   "metadata": {
    "collapsed": false,
    "jupyter": {
     "outputs_hidden": false
    }
   },
   "outputs": [],
   "source": [
    "import qualified Data.Random as R\n",
    "import Data.Random.Source.PureMT\n",
    "import Control.Monad.State\n",
    "import Data.Random.Distribution.Static.MultivariateNormal"
   ]
  },
  {
   "cell_type": "code",
   "execution_count": 25,
   "metadata": {
    "collapsed": false,
    "jupyter": {
     "outputs_hidden": false
    }
   },
   "outputs": [],
   "source": [
    "nSamples :: Int\n",
    "nSamples = 1000\n",
    "\n",
    "sigma1, sigma2, rho12 :: Double\n",
    "sigma1 = 3.0\n",
    "sigma2 = 1.0\n",
    "rho12 = 0.5\n",
    "\n",
    "singleSample :: R.RVarT (State PureMT) (LS.R 2)\n",
    "singleSample = R.sample $ Normal (LS.vector [0.0, 0.0])\n",
    "               (LS.sym $ LS.matrix [ sigma1, rho12 * sqrt sigma1 * sqrt sigma2\n",
    "                                   , rho12 * sqrt sigma1 * sqrt sigma2, sigma2])\n",
    "\n",
    "multiSamples :: [LS.R 2]\n",
    "multiSamples = evalState (replicateM nSamples $ R.sample singleSample) (pureMT 3)"
   ]
  },
  {
   "cell_type": "markdown",
   "metadata": {},
   "source": [
    "We can generalize this to arbitrary dimensions."
   ]
  },
  {
   "cell_type": "code",
   "execution_count": 26,
   "metadata": {
    "collapsed": false,
    "jupyter": {
     "outputs_hidden": false
    }
   },
   "outputs": [],
   "source": [
    "import qualified Numeric.LinearAlgebra as LA\n",
    "import Data.Maybe ( fromJust )"
   ]
  },
  {
   "cell_type": "code",
   "execution_count": 27,
   "metadata": {
    "collapsed": false,
    "jupyter": {
     "outputs_hidden": false
    }
   },
   "outputs": [],
   "source": [
    "singleSampleN :: forall n . KnownNat n =>\n",
    "                 LS.R n -> LS.Sq n -> R.RVarT (State PureMT) (LS.R n)\n",
    "singleSampleN vars corrs = R.sample $ Normal (LS.vector ds) es\n",
    "  where\n",
    "    sigmas :: LS.R n\n",
    "    sigmas = fromJust $ LS.create $ LA.cmap sqrt $ LS.extract vars\n",
    "\n",
    "    es :: LS.Sym n\n",
    "    es = LS.sym $ corrToCov sigmas corrs\n",
    "    ds = replicate (fromIntegral $ natVal (Proxy :: Proxy n)) 0.0\n",
    "\n",
    "multiSamplesN :: forall n . KnownNat n =>\n",
    "                  LS.R n -> LS.Sq n -> [LS.R n]\n",
    "multiSamplesN x y = evalState (replicateM nSamples $ R.sample (singleSampleN x y)) (pureMT 3)"
   ]
  },
  {
   "cell_type": "markdown",
   "metadata": {},
   "source": [
    "We can generate some samples from the bivariate normal using our specialised function."
   ]
  },
  {
   "cell_type": "code",
   "execution_count": 28,
   "metadata": {
    "collapsed": false,
    "jupyter": {
     "outputs_hidden": false
    }
   },
   "outputs": [],
   "source": [
    "pts :: [(Double, Double)]\n",
    "pts = map f multiSamples\n",
    "  where\n",
    "    f z = (x, y)\n",
    "      where\n",
    "        (x, t) = LS.headTail z\n",
    "        (y, _) = LS.headTail t"
   ]
  },
  {
   "cell_type": "markdown",
   "metadata": {},
   "source": [
    "Let's check our generalized function matches."
   ]
  },
  {
   "cell_type": "code",
   "execution_count": 29,
   "metadata": {
    "collapsed": false,
    "jupyter": {
     "outputs_hidden": false
    }
   },
   "outputs": [
    {
     "data": {
      "text/html": [
       "<style>/* Styles used for the Hoogle display in the pager */\n",
       ".hoogle-doc {\n",
       "display: block;\n",
       "padding-bottom: 1.3em;\n",
       "padding-left: 0.4em;\n",
       "}\n",
       ".hoogle-code {\n",
       "display: block;\n",
       "font-family: monospace;\n",
       "white-space: pre;\n",
       "}\n",
       ".hoogle-text {\n",
       "display: block;\n",
       "}\n",
       ".hoogle-name {\n",
       "color: green;\n",
       "font-weight: bold;\n",
       "}\n",
       ".hoogle-head {\n",
       "font-weight: bold;\n",
       "}\n",
       ".hoogle-sub {\n",
       "display: block;\n",
       "margin-left: 0.4em;\n",
       "}\n",
       ".hoogle-package {\n",
       "font-weight: bold;\n",
       "font-style: italic;\n",
       "}\n",
       ".hoogle-module {\n",
       "font-weight: bold;\n",
       "}\n",
       ".hoogle-class {\n",
       "font-weight: bold;\n",
       "}\n",
       ".get-type {\n",
       "color: green;\n",
       "font-weight: bold;\n",
       "font-family: monospace;\n",
       "display: block;\n",
       "white-space: pre-wrap;\n",
       "}\n",
       ".show-type {\n",
       "color: green;\n",
       "font-weight: bold;\n",
       "font-family: monospace;\n",
       "margin-left: 1em;\n",
       "}\n",
       ".mono {\n",
       "font-family: monospace;\n",
       "display: block;\n",
       "}\n",
       ".err-msg {\n",
       "color: red;\n",
       "font-style: italic;\n",
       "font-family: monospace;\n",
       "white-space: pre;\n",
       "display: block;\n",
       "}\n",
       "#unshowable {\n",
       "color: red;\n",
       "font-weight: bold;\n",
       "}\n",
       ".err-msg.in.collapse {\n",
       "padding-top: 0.7em;\n",
       "}\n",
       ".highlight-code {\n",
       "white-space: pre;\n",
       "font-family: monospace;\n",
       "}\n",
       ".suggestion-warning { \n",
       "font-weight: bold;\n",
       "color: rgb(200, 130, 0);\n",
       "}\n",
       ".suggestion-error { \n",
       "font-weight: bold;\n",
       "color: red;\n",
       "}\n",
       ".suggestion-name {\n",
       "font-weight: bold;\n",
       "}\n",
       "</style><div class=\"suggestion-name\" style=\"clear:both;\">Redundant bracket</div><div class=\"suggestion-row\" style=\"float: left;\"><div class=\"suggestion-warning\">Found:</div><div class=\"highlight-code\" id=\"haskell\">  (multiSamplesN\n",
       "     (LS.vector [sigma1, sigma2])\n",
       "     (LS.matrix [1.0, rho12, rho12, 1.0])) ::\n",
       "    [LS.R 2]</div></div><div class=\"suggestion-row\" style=\"float: left;\"><div class=\"suggestion-warning\">Why Not:</div><div class=\"highlight-code\" id=\"haskell\">  multiSamplesN\n",
       "    (LS.vector [sigma1, sigma2])\n",
       "    (LS.matrix [1.0, rho12, rho12, 1.0]) ::\n",
       "    [LS.R 2]</div></div>"
      ],
      "text/plain": [
       "Line 2: Redundant bracket\n",
       "Found:\n",
       "  (multiSamplesN\n",
       "     (LS.vector [sigma1, sigma2])\n",
       "     (LS.matrix [1.0, rho12, rho12, 1.0])) ::\n",
       "    [LS.R 2]\n",
       "Why not:\n",
       "  multiSamplesN\n",
       "    (LS.vector [sigma1, sigma2])\n",
       "    (LS.matrix [1.0, rho12, rho12, 1.0]) ::\n",
       "    [LS.R 2]"
      ]
     },
     "metadata": {},
     "output_type": "display_data"
    }
   ],
   "source": [
    "pts2' :: [(Double, Double)]\n",
    "pts2' = map f ((multiSamplesN (LS.vector [sigma1, sigma2]) (LS.matrix [1.0, rho12, rho12, 1.0])) :: [LS.R 2])\n",
    "  where\n",
    "    f z = (x, y)\n",
    "      where\n",
    "        (x, t) = LS.headTail z\n",
    "        (y, _) = LS.headTail t"
   ]
  },
  {
   "cell_type": "code",
   "execution_count": 30,
   "metadata": {
    "collapsed": false,
    "jupyter": {
     "outputs_hidden": false
    }
   },
   "outputs": [
    {
     "data": {
      "text/plain": [
       "(-4.065769711374732,8.721890276573241e-2)"
      ]
     },
     "metadata": {},
     "output_type": "display_data"
    }
   ],
   "source": [
    "last pts"
   ]
  },
  {
   "cell_type": "code",
   "execution_count": 31,
   "metadata": {
    "collapsed": false,
    "jupyter": {
     "outputs_hidden": false
    }
   },
   "outputs": [
    {
     "data": {
      "text/plain": [
       "(-4.065769711374731,8.721890276573241e-2)"
      ]
     },
     "metadata": {},
     "output_type": "display_data"
    }
   ],
   "source": [
    "last pts2'"
   ]
  },
  {
   "cell_type": "markdown",
   "metadata": {},
   "source": [
    "We also need to calculate the probability density for each sample."
   ]
  },
  {
   "cell_type": "code",
   "execution_count": 32,
   "metadata": {
    "collapsed": false,
    "jupyter": {
     "outputs_hidden": false
    }
   },
   "outputs": [],
   "source": [
    "import Data.Random.Distribution"
   ]
  },
  {
   "cell_type": "code",
   "execution_count": 33,
   "metadata": {
    "collapsed": false,
    "jupyter": {
     "outputs_hidden": false
    }
   },
   "outputs": [],
   "source": [
    "pdfs :: [Double]\n",
    "pdfs = map (pdf (Normal (LS.fromList [0.0, 0.0])\n",
    "                        (LS.sym $ LS.matrix [ sigma1, rho12 * sqrt sigma1 * sqrt sigma2\n",
    "                                            , rho12 * sqrt sigma1 * sqrt sigma2, sigma2]))) multiSamples"
   ]
  },
  {
   "cell_type": "markdown",
   "metadata": {},
   "source": [
    "So the density for $\\texttt{last pts2'}$ is $\\texttt{last pdfs}$."
   ]
  },
  {
   "cell_type": "code",
   "execution_count": 34,
   "metadata": {
    "collapsed": false,
    "jupyter": {
     "outputs_hidden": false
    }
   },
   "outputs": [
    {
     "data": {
      "text/plain": [
       "2.3382685607071917e-3"
      ]
     },
     "metadata": {},
     "output_type": "display_data"
    }
   ],
   "source": [
    "last pdfs"
   ]
  },
  {
   "cell_type": "markdown",
   "metadata": {},
   "source": [
    "Let's check a few more things. First let's create the covariance\n",
    " matrix from the correlation matrix rather than doing it by hand as\n",
    " above."
   ]
  },
  {
   "cell_type": "code",
   "execution_count": 35,
   "metadata": {
    "collapsed": false,
    "jupyter": {
     "outputs_hidden": false
    }
   },
   "outputs": [],
   "source": [
    "covv :: LS.Sq 2\n",
    "covv = corrToCov (LS.vector [sqrt sigma1, sqrt sigma2])\n",
    "                 (LS.matrix [1.0, rho12, rho12, 1.0])"
   ]
  },
  {
   "cell_type": "markdown",
   "metadata": {},
   "source": [
    "The covariance matrix is"
   ]
  },
  {
   "cell_type": "code",
   "execution_count": 36,
   "metadata": {
    "collapsed": false,
    "jupyter": {
     "outputs_hidden": false
    }
   },
   "outputs": [
    {
     "data": {
      "text/plain": [
       "(matrix\n",
       " [ 2.9999999999999996, 0.8660254037844386\n",
       " , 0.8660254037844386,                1.0 ] :: L 2 2)"
      ]
     },
     "metadata": {},
     "output_type": "display_data"
    }
   ],
   "source": [
    "covv"
   ]
  },
  {
   "cell_type": "markdown",
   "metadata": {},
   "source": [
    "Let's check it gives the same answer."
   ]
  },
  {
   "cell_type": "code",
   "execution_count": 37,
   "metadata": {
    "collapsed": false,
    "jupyter": {
     "outputs_hidden": false
    }
   },
   "outputs": [],
   "source": [
    "pdfs' :: [Double]\n",
    "pdfs' = map (pdf (Normal (LS.fromList [0.0, 0.0]) (LS.sym covv))) multiSamples"
   ]
  },
  {
   "cell_type": "code",
   "execution_count": 38,
   "metadata": {
    "collapsed": false,
    "jupyter": {
     "outputs_hidden": false
    }
   },
   "outputs": [
    {
     "data": {
      "text/plain": [
       "2.3382685607071917e-3"
      ]
     },
     "metadata": {},
     "output_type": "display_data"
    }
   ],
   "source": [
    "last pdfs"
   ]
  },
  {
   "cell_type": "code",
   "execution_count": 39,
   "metadata": {
    "collapsed": false,
    "jupyter": {
     "outputs_hidden": false
    }
   },
   "outputs": [
    {
     "data": {
      "text/plain": [
       "2.3382685607071917e-3"
      ]
     },
     "metadata": {},
     "output_type": "display_data"
    }
   ],
   "source": [
    "last pdfs'"
   ]
  },
  {
   "cell_type": "markdown",
   "metadata": {},
   "source": [
    "Again we can generalize this."
   ]
  },
  {
   "cell_type": "code",
   "execution_count": 40,
   "metadata": {
    "collapsed": false,
    "jupyter": {
     "outputs_hidden": false
    }
   },
   "outputs": [],
   "source": [
    "pdfsN :: forall n . KnownNat n =>\n",
    "          LS.R n -> LS.Sq n ->  LS.Sym n -> [Double]\n",
    "pdfsN x y cov = map (pdf (Normal (LS.fromList ds) cov)) (multiSamplesN x y)\n",
    "  where\n",
    "    ds = replicate (fromIntegral $ natVal (Proxy :: Proxy n)) 0.0"
   ]
  },
  {
   "cell_type": "markdown",
   "metadata": {},
   "source": [
    "And test that this also gives the same answer when specialized."
   ]
  },
  {
   "cell_type": "code",
   "execution_count": 41,
   "metadata": {
    "collapsed": false,
    "jupyter": {
     "outputs_hidden": false
    }
   },
   "outputs": [],
   "source": [
    "test :: [Double]\n",
    "test = zipWith (-) a b\n",
    "  where\n",
    "    a = pdfsN (LS.fromList [sigma1, sigma2]) (LS.matrix [1.0, rho12, rho12, 1.0]) (LS.sym covv)\n",
    "    b = pdfs'"
   ]
  },
  {
   "cell_type": "code",
   "execution_count": 42,
   "metadata": {
    "collapsed": false,
    "jupyter": {
     "outputs_hidden": false
    }
   },
   "outputs": [
    {
     "data": {
      "text/plain": [
       "4.163336342344337e-17"
      ]
     },
     "metadata": {},
     "output_type": "display_data"
    }
   ],
   "source": [
    "maximum $ map abs test"
   ]
  },
  {
   "cell_type": "code",
   "execution_count": 43,
   "metadata": {
    "collapsed": false,
    "jupyter": {
     "outputs_hidden": false
    }
   },
   "outputs": [
    {
     "data": {
      "text/html": [
       "<style>/* Styles used for the Hoogle display in the pager */\n",
       ".hoogle-doc {\n",
       "display: block;\n",
       "padding-bottom: 1.3em;\n",
       "padding-left: 0.4em;\n",
       "}\n",
       ".hoogle-code {\n",
       "display: block;\n",
       "font-family: monospace;\n",
       "white-space: pre;\n",
       "}\n",
       ".hoogle-text {\n",
       "display: block;\n",
       "}\n",
       ".hoogle-name {\n",
       "color: green;\n",
       "font-weight: bold;\n",
       "}\n",
       ".hoogle-head {\n",
       "font-weight: bold;\n",
       "}\n",
       ".hoogle-sub {\n",
       "display: block;\n",
       "margin-left: 0.4em;\n",
       "}\n",
       ".hoogle-package {\n",
       "font-weight: bold;\n",
       "font-style: italic;\n",
       "}\n",
       ".hoogle-module {\n",
       "font-weight: bold;\n",
       "}\n",
       ".hoogle-class {\n",
       "font-weight: bold;\n",
       "}\n",
       ".get-type {\n",
       "color: green;\n",
       "font-weight: bold;\n",
       "font-family: monospace;\n",
       "display: block;\n",
       "white-space: pre-wrap;\n",
       "}\n",
       ".show-type {\n",
       "color: green;\n",
       "font-weight: bold;\n",
       "font-family: monospace;\n",
       "margin-left: 1em;\n",
       "}\n",
       ".mono {\n",
       "font-family: monospace;\n",
       "display: block;\n",
       "}\n",
       ".err-msg {\n",
       "color: red;\n",
       "font-style: italic;\n",
       "font-family: monospace;\n",
       "white-space: pre;\n",
       "display: block;\n",
       "}\n",
       "#unshowable {\n",
       "color: red;\n",
       "font-weight: bold;\n",
       "}\n",
       ".err-msg.in.collapse {\n",
       "padding-top: 0.7em;\n",
       "}\n",
       ".highlight-code {\n",
       "white-space: pre;\n",
       "font-family: monospace;\n",
       "}\n",
       ".suggestion-warning { \n",
       "font-weight: bold;\n",
       "color: rgb(200, 130, 0);\n",
       "}\n",
       ".suggestion-error { \n",
       "font-weight: bold;\n",
       "color: red;\n",
       "}\n",
       ".suggestion-name {\n",
       "font-weight: bold;\n",
       "}\n",
       "</style><div class=\"suggestion-name\" style=\"clear:both;\">Use map once</div><div class=\"suggestion-row\" style=\"float: left;\"><div class=\"suggestion-warning\">Found:</div><div class=\"highlight-code\" id=\"haskell\">map cost1 \\$ map (\\ (x, y) -> LS.fromList [x, y]) obs</div></div><div class=\"suggestion-row\" style=\"float: left;\"><div class=\"suggestion-warning\">Why Not:</div><div class=\"highlight-code\" id=\"haskell\">map (cost1 . (\\ (x, y) -> LS.fromList [x, y])) obs</div></div>"
      ],
      "text/plain": [
       "Line 12: Use map once\n",
       "Found:\n",
       "map cost1 $ map (\\ (x, y) -> LS.fromList [x, y]) obs\n",
       "Why not:\n",
       "map (cost1 . (\\ (x, y) -> LS.fromList [x, y])) obs"
      ]
     },
     "metadata": {},
     "output_type": "display_data"
    }
   ],
   "source": [
    "costNorm :: [(Double, Double)] -> (Double, Double) -> (Double, Double) -> Double -> Double\n",
    "costNorm obs (muX, muY) (varX, varY) tau =\n",
    "  sum $ zipWith (\\x y -> (x - y) * (x - y)) pdfsOfObs pdfs\n",
    "  where\n",
    "    t2 :: LS.Sym 2\n",
    "    t2 = LS.sym $ corrToCov (LS.fromList [sqrt varX, sqrt varY]) (LS.matrix [1.0, tau, tau, 1.0])\n",
    "\n",
    "    cost1 :: LS.R 2 -> Double\n",
    "    cost1 = pdf (Normal (LS.fromList [muX, muY]) t2)\n",
    "\n",
    "    pdfsOfObs :: [Double]\n",
    "    pdfsOfObs = map cost1 $ map (\\(x, y) -> LS.fromList [x, y]) obs"
   ]
  },
  {
   "cell_type": "code",
   "execution_count": 44,
   "metadata": {
    "collapsed": false,
    "jupyter": {
     "outputs_hidden": false
    }
   },
   "outputs": [],
   "source": [
    "costNorm2 :: [LS.R 2] -> LS.R 2 -> LS.R 2 -> LS.Sym 2 -> Double\n",
    "costNorm2 obs mus vars corr =\n",
    "  sum $ zipWith (\\x y -> (x - y) * (x - y)) pdfsOfObs pdfs\n",
    "  where\n",
    "    sigmas :: LS.R 2\n",
    "    sigmas = fromJust $ LS.create $ LA.cmap sqrt $ LS.extract vars\n",
    "\n",
    "    t2 :: LS.Sym 2\n",
    "    t2 = LS.sym $ corrToCov sigmas (LS.unSym corr)\n",
    "\n",
    "    getPdf :: LS.R 2 -> Double\n",
    "    getPdf = pdf (Normal mus t2)\n",
    "\n",
    "    pdfsOfObs :: [Double]\n",
    "    pdfsOfObs = map getPdf obs"
   ]
  },
  {
   "cell_type": "markdown",
   "metadata": {},
   "source": [
    "And then generalize fully."
   ]
  },
  {
   "cell_type": "code",
   "execution_count": 45,
   "metadata": {
    "collapsed": false,
    "jupyter": {
     "outputs_hidden": false
    }
   },
   "outputs": [],
   "source": [
    "costNormN :: forall n . KnownNat n =>\n",
    "             [LS.R n] -> LS.R n ->\n",
    "             LS.R n -> LS.Sym n ->\n",
    "             LS.R n -> LS.Sym n -> Double\n",
    "costNormN obs mus possVars possCorrs genVars genCorrs =\n",
    "  sum $ zipWith (\\x y -> (x - y) * (x - y)) pdfsOfObs pdfsOfGen\n",
    "  where\n",
    "    sigmas :: LS.R n\n",
    "    sigmas = fromJust $ LS.create $ LA.cmap sqrt $ LS.extract possVars\n",
    "\n",
    "    t2 :: LS.Sym n\n",
    "    t2 = LS.sym $ corrToCov sigmas (LS.unSym possCorrs)\n",
    "\n",
    "    getPdf :: LS.R n -> Double\n",
    "    getPdf = pdf (Normal mus t2)\n",
    "\n",
    "    pdfsOfObs :: [Double]\n",
    "    pdfsOfObs = map getPdf obs\n",
    "\n",
    "    pdfsOfGen = pdfsN genVars (LS.unSym genCorrs) cov\n",
    "\n",
    "    taus :: LS.R n\n",
    "    taus = fromJust $ LS.create $ LA.cmap sqrt $ LS.extract genVars\n",
    "\n",
    "    cov :: LS.Sym n\n",
    "    cov = LS.sym $ corrToCov taus (LS.unSym genCorrs)"
   ]
  },
  {
   "cell_type": "code",
   "execution_count": 46,
   "metadata": {
    "collapsed": false,
    "jupyter": {
     "outputs_hidden": false
    }
   },
   "outputs": [
    {
     "data": {
      "text/html": [
       "<style>/* Styles used for the Hoogle display in the pager */\n",
       ".hoogle-doc {\n",
       "display: block;\n",
       "padding-bottom: 1.3em;\n",
       "padding-left: 0.4em;\n",
       "}\n",
       ".hoogle-code {\n",
       "display: block;\n",
       "font-family: monospace;\n",
       "white-space: pre;\n",
       "}\n",
       ".hoogle-text {\n",
       "display: block;\n",
       "}\n",
       ".hoogle-name {\n",
       "color: green;\n",
       "font-weight: bold;\n",
       "}\n",
       ".hoogle-head {\n",
       "font-weight: bold;\n",
       "}\n",
       ".hoogle-sub {\n",
       "display: block;\n",
       "margin-left: 0.4em;\n",
       "}\n",
       ".hoogle-package {\n",
       "font-weight: bold;\n",
       "font-style: italic;\n",
       "}\n",
       ".hoogle-module {\n",
       "font-weight: bold;\n",
       "}\n",
       ".hoogle-class {\n",
       "font-weight: bold;\n",
       "}\n",
       ".get-type {\n",
       "color: green;\n",
       "font-weight: bold;\n",
       "font-family: monospace;\n",
       "display: block;\n",
       "white-space: pre-wrap;\n",
       "}\n",
       ".show-type {\n",
       "color: green;\n",
       "font-weight: bold;\n",
       "font-family: monospace;\n",
       "margin-left: 1em;\n",
       "}\n",
       ".mono {\n",
       "font-family: monospace;\n",
       "display: block;\n",
       "}\n",
       ".err-msg {\n",
       "color: red;\n",
       "font-style: italic;\n",
       "font-family: monospace;\n",
       "white-space: pre;\n",
       "display: block;\n",
       "}\n",
       "#unshowable {\n",
       "color: red;\n",
       "font-weight: bold;\n",
       "}\n",
       ".err-msg.in.collapse {\n",
       "padding-top: 0.7em;\n",
       "}\n",
       ".highlight-code {\n",
       "white-space: pre;\n",
       "font-family: monospace;\n",
       "}\n",
       ".suggestion-warning { \n",
       "font-weight: bold;\n",
       "color: rgb(200, 130, 0);\n",
       "}\n",
       ".suggestion-error { \n",
       "font-weight: bold;\n",
       "color: red;\n",
       "}\n",
       ".suggestion-name {\n",
       "font-weight: bold;\n",
       "}\n",
       "</style><div class=\"suggestion-name\" style=\"clear:both;\">Redundant bracket</div><div class=\"suggestion-row\" style=\"float: left;\"><div class=\"suggestion-warning\">Found:</div><div class=\"highlight-code\" id=\"haskell\">[(- 1.0), (- 1.0), log 1.0, log 1.0, 0.1]</div></div><div class=\"suggestion-row\" style=\"float: left;\"><div class=\"suggestion-warning\">Why Not:</div><div class=\"highlight-code\" id=\"haskell\">[- 1.0, (- 1.0), log 1.0, log 1.0, 0.1]</div></div><div class=\"suggestion-name\" style=\"clear:both;\">Redundant bracket</div><div class=\"suggestion-row\" style=\"float: left;\"><div class=\"suggestion-warning\">Found:</div><div class=\"highlight-code\" id=\"haskell\">[(- 1.0), (- 1.0), log 1.0, log 1.0, 0.1]</div></div><div class=\"suggestion-row\" style=\"float: left;\"><div class=\"suggestion-warning\">Why Not:</div><div class=\"highlight-code\" id=\"haskell\">[(- 1.0), - 1.0, log 1.0, log 1.0, 0.1]</div></div><div class=\"suggestion-name\" style=\"clear:both;\">Redundant bracket</div><div class=\"suggestion-row\" style=\"float: left;\"><div class=\"suggestion-warning\">Found:</div><div class=\"highlight-code\" id=\"haskell\">[1.0, ((2 / pi) * atan x5), ((2 / pi) * atan x5), 1.0]</div></div><div class=\"suggestion-row\" style=\"float: left;\"><div class=\"suggestion-warning\">Why Not:</div><div class=\"highlight-code\" id=\"haskell\">[1.0, (2 / pi) * atan x5, ((2 / pi) * atan x5), 1.0]</div></div><div class=\"suggestion-name\" style=\"clear:both;\">Redundant bracket</div><div class=\"suggestion-row\" style=\"float: left;\"><div class=\"suggestion-warning\">Found:</div><div class=\"highlight-code\" id=\"haskell\">[1.0, ((2 / pi) * atan x5), ((2 / pi) * atan x5), 1.0]</div></div><div class=\"suggestion-row\" style=\"float: left;\"><div class=\"suggestion-warning\">Why Not:</div><div class=\"highlight-code\" id=\"haskell\">[1.0, ((2 / pi) * atan x5), (2 / pi) * atan x5, 1.0]</div></div>"
      ],
      "text/plain": [
       "Line 2: Redundant bracket\n",
       "Found:\n",
       "[(- 1.0), (- 1.0), log 1.0, log 1.0, 0.1]\n",
       "Why not:\n",
       "[- 1.0, (- 1.0), log 1.0, log 1.0, 0.1]Line 2: Redundant bracket\n",
       "Found:\n",
       "[(- 1.0), (- 1.0), log 1.0, log 1.0, 0.1]\n",
       "Why not:\n",
       "[(- 1.0), - 1.0, log 1.0, log 1.0, 0.1]Line 14: Redundant bracket\n",
       "Found:\n",
       "[1.0, ((2 / pi) * atan x5), ((2 / pi) * atan x5), 1.0]\n",
       "Why not:\n",
       "[1.0, (2 / pi) * atan x5, ((2 / pi) * atan x5), 1.0]Line 14: Redundant bracket\n",
       "Found:\n",
       "[1.0, ((2 / pi) * atan x5), ((2 / pi) * atan x5), 1.0]\n",
       "Why not:\n",
       "[1.0, ((2 / pi) * atan x5), (2 / pi) * atan x5, 1.0]"
      ]
     },
     "metadata": {},
     "output_type": "display_data"
    }
   ],
   "source": [
    "infer2 :: [(Double, Double)] -> R s (Double, [Double])\n",
    "infer2 obs = cmaes co[0.0, 0.0, log 3.0, log 1.5, 0.5] [(-1.0), (-1.0), log 1.0, log 1.0, 0.1] [1.0, 1.0, log 5.0, log 3.0, 0.9]\n",
    "  where\n",
    "    co [x1, x2, x3, x4, x5] =\n",
    "      costNorm2 (map (\\(x, y) -> LS.fromList [x, y]) obs)\n",
    "                 (LS.fromList [x1, x2])\n",
    "                 varV\n",
    "                 corrM\n",
    "      where\n",
    "        varV :: LS.R 2\n",
    "        varV   = LS.fromList [exp x3, exp x4]\n",
    "        corrM :: LS.Sym 2\n",
    "        corrM  = LS.sym $\n",
    "                 LS.matrix [1.0, ((2 / pi) * atan x5),\n",
    "                            ((2 / pi) * atan x5), 1.0]\n",
    "    co _                    =\n",
    "      error \"infer2 wrong number of elements\""
   ]
  },
  {
   "cell_type": "code",
   "execution_count": 47,
   "metadata": {
    "collapsed": false,
    "jupyter": {
     "outputs_hidden": false
    }
   },
   "outputs": [
    {
     "data": {
      "text/plain": []
     },
     "metadata": {},
     "output_type": "display_data"
    }
   ],
   "source": [
    "result <- R.runRegion (infer2 pts)"
   ]
  },
  {
   "cell_type": "code",
   "execution_count": 50,
   "metadata": {
    "collapsed": false,
    "jupyter": {
     "outputs_hidden": false
    }
   },
   "outputs": [
    {
     "data": {
      "text/plain": [
       "2.8988529833602406"
      ]
     },
     "metadata": {},
     "output_type": "display_data"
    }
   ],
   "source": [
    "exp (snd result!!2)"
   ]
  },
  {
   "cell_type": "code",
   "execution_count": 52,
   "metadata": {
    "collapsed": false,
    "jupyter": {
     "outputs_hidden": false
    }
   },
   "outputs": [
    {
     "data": {
      "text/plain": [
       "0.9999999961497585"
      ]
     },
     "metadata": {},
     "output_type": "display_data"
    }
   ],
   "source": [
    "exp (snd result!!3)"
   ]
  },
  {
   "cell_type": "code",
   "execution_count": 55,
   "metadata": {
    "collapsed": false,
    "jupyter": {
     "outputs_hidden": false
    }
   },
   "outputs": [
    {
     "data": {
      "text/plain": [
       "0.4665245863550214"
      ]
     },
     "metadata": {},
     "output_type": "display_data"
    }
   ],
   "source": [
    "atan (snd result!!4) * 2 / pi"
   ]
  },
  {
   "cell_type": "code",
   "execution_count": null,
   "metadata": {
    "collapsed": false,
    "jupyter": {
     "outputs_hidden": false
    }
   },
   "outputs": [],
   "source": []
  }
 ],
 "metadata": {
  "kernelspec": {
   "display_name": "Haskell - ihaskell-data-env",
   "language": "haskell",
   "name": "ihaskell-data-env"
  },
  "language_info": {
   "codemirror_mode": "ihaskell",
   "file_extension": ".hs",
   "name": "haskell",
   "pygments_lexer": "Haskell",
   "version": "8.8.3"
  },
  "name": "TestHaskellAndInlineR.ipynb"
 },
 "nbformat": 4,
 "nbformat_minor": 4
}
