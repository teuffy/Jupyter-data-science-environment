{
 "cells": [
  {
   "cell_type": "code",
   "execution_count": 4,
   "metadata": {},
   "outputs": [
    {
     "name": "stderr",
     "output_type": "stream",
     "text": [
      "\u001b[32m\u001b[1m   Building\u001b[22m\u001b[39m Conda ─→ `~/git/jupyNixDsF/.julia_pkgs/packages/Conda/3rPhK/deps/build.log`\n",
      "\u001b[32m\u001b[1m   Building\u001b[22m\u001b[39m PyCall → `~/git/jupyNixDsF/.julia_pkgs/packages/PyCall/BcTLp/deps/build.log`\n"
     ]
    }
   ],
   "source": [
    "using Pkg\n",
    "Pkg.build(\"PyCall\")"
   ]
  },
  {
   "cell_type": "code",
   "execution_count": 5,
   "metadata": {},
   "outputs": [
    {
     "name": "stderr",
     "output_type": "stream",
     "text": [
      "\u001b[32m\u001b[1m   Updating\u001b[22m\u001b[39m registry at `~/git/jupyNixDsF/.julia_pkgs/registries/General`\n",
      "######################################################################### 100.0%\n",
      "\u001b[32m\u001b[1m  Resolving\u001b[22m\u001b[39m package versions...\n",
      "\u001b[32m\u001b[1mNo Changes\u001b[22m\u001b[39m to `~/git/jupyNixDsF/.julia_pkgs/environments/v1.5/Project.toml`\n",
      "\u001b[32m\u001b[1mNo Changes\u001b[22m\u001b[39m to `~/git/jupyNixDsF/.julia_pkgs/environments/v1.5/Manifest.toml`\n"
     ]
    }
   ],
   "source": [
    "Pkg.add(\"PyCall\")"
   ]
  },
  {
   "cell_type": "code",
   "execution_count": 6,
   "metadata": {},
   "outputs": [
    {
     "data": {
      "text/plain": [
       "0.7071067811865475"
      ]
     },
     "execution_count": 6,
     "metadata": {},
     "output_type": "execute_result"
    }
   ],
   "source": [
    "using PyCall\n",
    "math = pyimport(\"math\")\n",
    "math.sin(math.pi / 4)"
   ]
  },
  {
   "cell_type": "code",
   "execution_count": 16,
   "metadata": {},
   "outputs": [],
   "source": [
    "#using PyCall\n",
    "#sympy = pyimport(\"sympy\")"
   ]
  },
  {
   "cell_type": "code",
   "execution_count": 14,
   "metadata": {},
   "outputs": [
    {
     "name": "stderr",
     "output_type": "stream",
     "text": [
      "\u001b[32m\u001b[1m  Resolving\u001b[22m\u001b[39m package versions...\n",
      "\u001b[32m\u001b[1mNo Changes\u001b[22m\u001b[39m to `~/git/jupyNixDsF/.julia_pkgs/environments/v1.5/Project.toml`\n",
      "\u001b[32m\u001b[1mNo Changes\u001b[22m\u001b[39m to `~/git/jupyNixDsF/.julia_pkgs/environments/v1.5/Manifest.toml`\n"
     ]
    }
   ],
   "source": [
    "Pkg.add(\"SymPy\")"
   ]
  },
  {
   "cell_type": "code",
   "execution_count": 18,
   "metadata": {},
   "outputs": [],
   "source": [
    "using SymPy"
   ]
  },
  {
   "cell_type": "code",
   "execution_count": 19,
   "metadata": {},
   "outputs": [
    {
     "ename": "LoadError",
     "evalue": "ArgumentError: ref of NULL PyObject",
     "output_type": "error",
     "traceback": [
      "ArgumentError: ref of NULL PyObject",
      "",
      "Stacktrace:",
      " [1] _getproperty at /home/co/git/jupyNixDsF/.julia_pkgs/packages/PyCall/BcTLp/src/PyCall.jl:299 [inlined]",
      " [2] __getproperty(::PyObject, ::Symbol) at /home/co/git/jupyNixDsF/.julia_pkgs/packages/PyCall/BcTLp/src/PyCall.jl:306",
      " [3] getproperty at /home/co/git/jupyNixDsF/.julia_pkgs/packages/PyCall/BcTLp/src/PyCall.jl:312 [inlined]",
      " [4] Sym(::String) at /home/co/git/jupyNixDsF/.julia_pkgs/packages/SymPy/fI5pg/src/constructors.jl:80",
      " [5] top-level scope at In[19]:1",
      " [6] include_string(::Function, ::Module, ::String, ::String) at /nix/store/lnqhsg53az7p9m1vg7l4k2kjwyv4cp39-julia-1.3.1/lib/julia/sys.so:?",
      " [7] execute_code(::String, ::String) at /home/co/git/jupyNixDsF/.julia_pkgs/packages/IJulia/rWZ9e/src/execute_request.jl:27",
      " [8] execute_request(::ZMQ.Socket, ::IJulia.Msg) at /home/co/git/jupyNixDsF/.julia_pkgs/packages/IJulia/rWZ9e/src/execute_request.jl:86",
      " [9] #invokelatest#1 at ./essentials.jl:710 [inlined]",
      " [10] invokelatest at ./essentials.jl:709 [inlined]",
      " [11] eventloop(::ZMQ.Socket) at /home/co/git/jupyNixDsF/.julia_pkgs/packages/IJulia/rWZ9e/src/eventloop.jl:8",
      " [12] (::IJulia.var\"#15#18\")() at ./task.jl:356"
     ]
    }
   ],
   "source": [
    "x=Sym(\"x\")"
   ]
  },
  {
   "cell_type": "code",
   "execution_count": 8,
   "metadata": {},
   "outputs": [
    {
     "name": "stderr",
     "output_type": "stream",
     "text": [
      "\u001b[32m\u001b[1m  Resolving\u001b[22m\u001b[39m package versions...\n",
      "\u001b[32m\u001b[1mNo Changes\u001b[22m\u001b[39m to `~/git/jupyNixDsF/.julia_pkgs/environments/v1.5/Project.toml`\n",
      "\u001b[32m\u001b[1mNo Changes\u001b[22m\u001b[39m to `~/git/jupyNixDsF/.julia_pkgs/environments/v1.5/Manifest.toml`\n"
     ]
    }
   ],
   "source": [
    "Pkg.add(\"Symata\")\n",
    "using Symata"
   ]
  },
  {
   "cell_type": "code",
   "execution_count": 9,
   "metadata": {},
   "outputs": [
    {
     "ename": "LoadError",
     "evalue": "syntax: unexpected \"=\"",
     "output_type": "error",
     "traceback": [
      "syntax: unexpected \"=\"",
      "",
      "Stacktrace:",
      " [1] top-level scope at In[9]:1",
      " [2] include_string(::Function, ::Module, ::String, ::String) at /nix/store/lnqhsg53az7p9m1vg7l4k2kjwyv4cp39-julia-1.3.1/lib/julia/sys.so:?",
      " [3] execute_code(::String, ::String) at /home/co/git/jupyNixDsF/.julia_pkgs/packages/IJulia/rWZ9e/src/execute_request.jl:27",
      " [4] execute_request(::ZMQ.Socket, ::IJulia.Msg) at /home/co/git/jupyNixDsF/.julia_pkgs/packages/IJulia/rWZ9e/src/execute_request.jl:86",
      " [5] #invokelatest#1 at ./essentials.jl:710 [inlined]",
      " [6] invokelatest at ./essentials.jl:709 [inlined]",
      " [7] eventloop(::ZMQ.Socket) at /home/co/git/jupyNixDsF/.julia_pkgs/packages/IJulia/rWZ9e/src/eventloop.jl:8",
      " [8] (::IJulia.var\"#15#18\")() at ./task.jl:356"
     ]
    }
   ],
   "source": []
  },
  {
   "cell_type": "code",
   "execution_count": 10,
   "metadata": {},
   "outputs": [
    {
     "name": "stderr",
     "output_type": "stream",
     "text": [
      "\u001b[32m\u001b[1m  Resolving\u001b[22m\u001b[39m package versions...\n",
      "\u001b[32m\u001b[1m  Installed\u001b[22m\u001b[39m MPFR_jll ──────── v4.1.0+1\n",
      "\u001b[32m\u001b[1m  Installed\u001b[22m\u001b[39m Arb_jll ───────── v2.18.1+0\n",
      "\u001b[32m\u001b[1m  Installed\u001b[22m\u001b[39m LoadFlint ─────── v0.3.3\n",
      "\u001b[32m\u001b[1m  Installed\u001b[22m\u001b[39m ArrayInterface ── v2.13.6\n",
      "\u001b[32m\u001b[1m  Installed\u001b[22m\u001b[39m AbstractAlgebra ─ v0.10.0\n",
      "\u001b[32m\u001b[1m  Installed\u001b[22m\u001b[39m Pluto ─────────── v0.12.4\n",
      "\u001b[32m\u001b[1m  Installed\u001b[22m\u001b[39m ModelingToolkit ─ v3.20.1\n",
      "\u001b[32m\u001b[1m  Installed\u001b[22m\u001b[39m Nemo ──────────── v0.18.1\n",
      "\u001b[32m\u001b[1m  Installed\u001b[22m\u001b[39m Antic_jll ─────── v0.2.2+0\n",
      "\u001b[32m\u001b[1m  Installed\u001b[22m\u001b[39m PDMats ────────── v0.9.12\n",
      "\u001b[32m\u001b[1m  Installed\u001b[22m\u001b[39m Arpack_jll ────── v3.5.0+3\n",
      "\u001b[32m\u001b[1m  Installed\u001b[22m\u001b[39m GMP_jll ───────── v6.1.2+5\n",
      "\u001b[32m\u001b[1m  Installed\u001b[22m\u001b[39m FLINT_jll ─────── v2.6.3+0\n",
      "\u001b[32m\u001b[1m  Installed\u001b[22m\u001b[39m IfElse ────────── v0.1.0\n",
      "\u001b[32m\u001b[1m  Installed\u001b[22m\u001b[39m Arpack ────────── v0.4.0\n",
      "\u001b[32m\u001b[1m  Installed\u001b[22m\u001b[39m SymbolicUtils ─── v0.5.1\n",
      "\u001b[32m\u001b[1m  Installed\u001b[22m\u001b[39m Distributions ─── v0.23.4\n",
      "######################################################################### 100.0%\n",
      "######################################################################### 100.0%\n",
      "######################################################################### 100.0%\n",
      "######################################################################### 100.0%\n",
      "######################################################################### 100.0%\n",
      "######################################################################### 100.0%\n",
      "\u001b[32m\u001b[1mUpdating\u001b[22m\u001b[39m `~/git/jupyNixDsF/.julia_pkgs/environments/v1.5/Project.toml`\n",
      " \u001b[90m [c3fe647b] \u001b[39m\u001b[95m↓ AbstractAlgebra v0.11.0 ⇒ v0.10.0\u001b[39m\n",
      " \u001b[90m [2edaba10] \u001b[39m\u001b[92m+ Nemo v0.18.1\u001b[39m\n",
      " \u001b[90m [c3e4b0f8] \u001b[39m\u001b[93m↑ Pluto v0.12.3 ⇒ v0.12.4\u001b[39m\n",
      "\u001b[32m\u001b[1mUpdating\u001b[22m\u001b[39m `~/git/jupyNixDsF/.julia_pkgs/environments/v1.5/Manifest.toml`\n",
      " \u001b[90m [c3fe647b] \u001b[39m\u001b[95m↓ AbstractAlgebra v0.11.0 ⇒ v0.10.0\u001b[39m\n",
      " \u001b[90m [e21ec000] \u001b[39m\u001b[92m+ Antic_jll v0.2.2+0\u001b[39m\n",
      " \u001b[90m [d9960996] \u001b[39m\u001b[92m+ Arb_jll v2.18.1+0\u001b[39m\n",
      " \u001b[90m [7d9fca2a] \u001b[39m\u001b[92m+ Arpack v0.4.0\u001b[39m\n",
      " \u001b[90m [68821587] \u001b[39m\u001b[92m+ Arpack_jll v3.5.0+3\u001b[39m\n",
      " \u001b[90m [4fba245c] \u001b[39m\u001b[93m↑ ArrayInterface v2.13.5 ⇒ v2.13.6\u001b[39m\n",
      " \u001b[90m [31c24e10] \u001b[39m\u001b[95m↓ Distributions v0.23.8 ⇒ v0.23.4\u001b[39m\n",
      " \u001b[90m [e134572f] \u001b[39m\u001b[92m+ FLINT_jll v2.6.3+0\u001b[39m\n",
      " \u001b[90m [781609d7] \u001b[39m\u001b[92m+ GMP_jll v6.1.2+5\u001b[39m\n",
      " \u001b[90m [615f187c] \u001b[39m\u001b[92m+ IfElse v0.1.0\u001b[39m\n",
      " \u001b[90m [472f376f] \u001b[39m\u001b[92m+ LoadFlint v0.3.3\u001b[39m\n",
      " \u001b[90m [3a97d323] \u001b[39m\u001b[92m+ MPFR_jll v4.1.0+1\u001b[39m\n",
      " \u001b[90m [961ee093] \u001b[39m\u001b[93m↑ ModelingToolkit v3.10.2 ⇒ v3.20.1\u001b[39m\n",
      " \u001b[90m [2edaba10] \u001b[39m\u001b[92m+ Nemo v0.18.1\u001b[39m\n",
      " \u001b[90m [90014a1f] \u001b[39m\u001b[95m↓ PDMats v0.10.1 ⇒ v0.9.12\u001b[39m\n",
      " \u001b[90m [c3e4b0f8] \u001b[39m\u001b[93m↑ Pluto v0.12.3 ⇒ v0.12.4\u001b[39m\n",
      " \u001b[90m [fb686558] \u001b[39m\u001b[91m- RandomExtensions v0.4.2\u001b[39m\n",
      " \u001b[90m [d1185830] \u001b[39m\u001b[93m↑ SymbolicUtils v0.3.3 ⇒ v0.5.1\u001b[39m\n",
      "\u001b[32m\u001b[1m   Building\u001b[22m\u001b[39m LoadFlint → `~/git/jupyNixDsF/.julia_pkgs/packages/LoadFlint/10o48/deps/build.log`\n",
      "\u001b[32m\u001b[1m   Building\u001b[22m\u001b[39m Nemo ─────→ `~/git/jupyNixDsF/.julia_pkgs/packages/Nemo/NVxdo/deps/build.log`\n"
     ]
    }
   ],
   "source": [
    "Pkg.add(\"Nemo\")"
   ]
  },
  {
   "cell_type": "code",
   "execution_count": 15,
   "metadata": {},
   "outputs": [],
   "source": [
    "using Nemo\n",
    "# see here https://nemocas.github.io/Nemo.jl/latest/"
   ]
  },
  {
   "cell_type": "code",
   "execution_count": 14,
   "metadata": {},
   "outputs": [
    {
     "data": {
      "text/latex": [
       "z + y + x + 1"
      ],
      "text/plain": [
       "z + y + x + 1"
      ]
     },
     "execution_count": 14,
     "metadata": {},
     "output_type": "execute_result"
    }
   ],
   "source": [
    "R, x = PolynomialRing(ZZ, \"x\")\n",
    "S, y = PolynomialRing(R, \"y\")\n",
    "T, z = PolynomialRing(S, \"z\")\n",
    "f = x + y + z + 1"
   ]
  },
  {
   "cell_type": "code",
   "execution_count": 17,
   "metadata": {},
   "outputs": [],
   "source": [
    "p=f^30;"
   ]
  },
  {
   "cell_type": "code",
   "execution_count": 20,
   "metadata": {},
   "outputs": [],
   "source": [
    "q=p*(p+1);"
   ]
  },
  {
   "cell_type": "code",
   "execution_count": 21,
   "metadata": {},
   "outputs": [
    {
     "data": {
      "text/plain": [
       "Matrix Space of 3 rows and 3 columns over Integer Ring"
      ]
     },
     "execution_count": 21,
     "metadata": {},
     "output_type": "execute_result"
    }
   ],
   "source": [
    "S = MatrixSpace(ZZ, 3, 3)\n"
   ]
  },
  {
   "cell_type": "code",
   "execution_count": 22,
   "metadata": {},
   "outputs": [
    {
     "data": {
      "text/plain": [
       "[1  0  1]\n",
       "[2  3  1]\n",
       "[5  6  7]"
      ]
     },
     "execution_count": 22,
     "metadata": {},
     "output_type": "execute_result"
    }
   ],
   "source": [
    "A = S([1 0 1; 2 3 1; 5 6 7])"
   ]
  },
  {
   "cell_type": "code",
   "execution_count": 23,
   "metadata": {},
   "outputs": [
    {
     "data": {
      "text/plain": [
       "([15 6 -3; -9 2 1; -3 -6 3], 12)"
      ]
     },
     "execution_count": 23,
     "metadata": {},
     "output_type": "execute_result"
    }
   ],
   "source": [
    "B, d = pseudo_inv(A)"
   ]
  },
  {
   "cell_type": "code",
   "execution_count": 24,
   "metadata": {},
   "outputs": [
    {
     "data": {
      "text/latex": [
       "2"
      ],
      "text/plain": [
       "2"
      ]
     },
     "execution_count": 24,
     "metadata": {},
     "output_type": "execute_result"
    }
   ],
   "source": [
    "fmpz(2)"
   ]
  },
  {
   "cell_type": "code",
   "execution_count": null,
   "metadata": {},
   "outputs": [],
   "source": [
    "?fmpz"
   ]
  }
 ],
 "metadata": {
  "kernelspec": {
   "display_name": "Julia - Julia-data-env",
   "language": "julia",
   "name": "julia_julia-data-env"
  },
  "language_info": {
   "file_extension": ".jl",
   "mimetype": "application/julia",
   "name": "julia",
   "version": "1.5.1"
  }
 },
 "nbformat": 4,
 "nbformat_minor": 4
}
